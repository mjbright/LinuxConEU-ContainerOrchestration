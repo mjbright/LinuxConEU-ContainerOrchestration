{
 "cells": [
  {
   "cell_type": "markdown",
   "metadata": {},
   "source": [
    "# Kubernetes lab\n",
    "\n",
    "First move to the source directory where you already downloaded the git repo sources:\n",
    "\n",
    "git clone https://github.com/mjbright/LinuxConEU-ContainerOrchestration"
   ]
  },
  {
   "cell_type": "code",
   "execution_count": 1,
   "metadata": {
    "collapsed": false
   },
   "outputs": [
    {
     "name": "stdout",
     "output_type": "stream",
     "text": [
      "/home/group20/2016-Oct-31/LinuxConEU-ContainerOrchestration\r\n"
     ]
    }
   ],
   "source": [
    "pwd"
   ]
  },
  {
   "cell_type": "code",
   "execution_count": 2,
   "metadata": {
    "collapsed": false
   },
   "outputs": [
    {
     "name": "stdout",
     "output_type": "stream",
     "text": [
      "origin\thttps://github.com/mjbright/LinuxConEU-ContainerOrchestration (fetch)\r\n",
      "origin\thttps://github.com/mjbright/LinuxConEU-ContainerOrchestration (push)\r\n"
     ]
    }
   ],
   "source": [
    "git remote -v"
   ]
  },
  {
   "cell_type": "code",
   "execution_count": 3,
   "metadata": {
    "collapsed": false
   },
   "outputs": [
    {
     "name": "stdout",
     "output_type": "stream",
     "text": []
    }
   ],
   "source": [
    "cd labs"
   ]
  },
  {
   "cell_type": "code",
   "execution_count": 4,
   "metadata": {
    "collapsed": false
   },
   "outputs": [
    {
     "name": "stdout",
     "output_type": "stream",
     "text": [
      "playbook.k8s  playbook.mesos  roles  Vagrantfile.multi\tVagrantfile.single\r\n"
     ]
    }
   ],
   "source": [
    "ls"
   ]
  },
  {
   "cell_type": "markdown",
   "metadata": {},
   "source": [
    "We first create symbolic links to use the appropriate playbook and Vagrantfile"
   ]
  },
  {
   "cell_type": "code",
   "execution_count": 5,
   "metadata": {
    "collapsed": false
   },
   "outputs": [
    {
     "name": "stdout",
     "output_type": "stream",
     "text": []
    }
   ],
   "source": [
    "ln -s playbook.k8s       playbook.yml\n",
    "ln -s Vagrantfile.single Vagrantfile"
   ]
  },
  {
   "cell_type": "code",
   "execution_count": 6,
   "metadata": {
    "collapsed": false
   },
   "outputs": [
    {
     "name": "stdout",
     "output_type": "stream",
     "text": [
      "total 28\r\n",
      "drwxrwxr-x. 3 group20 group20 4096 Oct 31 11:47 .\r\n",
      "drwxrwxr-x. 9 group20 group20 4096 Oct 31 11:46 ..\r\n",
      "-rw-rw-r--. 1 group20 group20  265 Oct 31 10:47 playbook.k8s\r\n",
      "-rw-rw-r--. 1 group20 group20  165 Oct 31 10:47 playbook.mesos\r\n",
      "lrwxrwxrwx. 1 group20 group20   12 Oct 31 11:47 playbook.yml -> playbook.k8s\r\n",
      "drwxrwxr-x. 9 group20 group20 4096 Oct 31 10:47 roles\r\n",
      "lrwxrwxrwx. 1 group20 group20   18 Oct 31 11:47 Vagrantfile -> Vagrantfile.single\r\n",
      "-rw-rw-r--. 1 group20 group20 1956 Oct 31 10:47 Vagrantfile.multi\r\n",
      "-rw-rw-r--. 1 group20 group20 1720 Oct 31 10:47 Vagrantfile.single\r\n"
     ]
    }
   ],
   "source": [
    "ls -al"
   ]
  },
  {
   "cell_type": "markdown",
   "metadata": {},
   "source": [
    "# Create our lab environment using Vagrant\n",
    "\n",
    "Now we have selected which Vagrantfile we use we can let Vagrant startup our virtual machine.\n",
    "\n",
    "The\n",
    "```shell\n",
    "vagrant up```\n",
    "command will take several minutes to complete and will invoke ansible to provision Kubernetes on our node as show below:"
   ]
  },
  {
   "cell_type": "code",
   "execution_count": 7,
   "metadata": {
    "collapsed": false
   },
   "outputs": [
    {
     "name": "stdout",
     "output_type": "stream",
     "text": [
      "\u001b[0mBringing machine 'node1' up with 'virtualbox' provider...\u001b[0m\r\n",
      "\u001b[1m==> node1: Box 'centos/7' could not be found. Attempting to find and install...\u001b[0m\r\n",
      "\u001b[0m    node1: Box Provider: virtualbox\u001b[0m\r\n",
      "\u001b[0m    node1: Box Version: >= 0\u001b[0m\r\n",
      "\u001b[1m==> node1: Loading metadata for box 'centos/7'\u001b[0m\r\n",
      "\u001b[0m    node1: URL: https://atlas.hashicorp.com/centos/7\u001b[0m\r\n",
      "\u001b[1m==> node1: Adding box 'centos/7' (v1609.01) for provider: virtualbox\u001b[0m\r\n",
      "\u001b[0m    node1: Downloading: https://atlas.hashicorp.com/centos/boxes/7/versions/1609.01/providers/virtualbox.box\u001b[0m\r\n",
      "\u001b[0m\r",
      "\u001b[K\u001b[0m\u001b[0m    node1: Progress: 0% (Rate: 0/s, Estimated time remaining: --:--:--)\u001b[0m\u001b[0m\r",
      "\u001b[K\u001b[0m\u001b[0m    node1: Progress: 0% (Rate: 0/s, Estimated time remaining: --:--:--)\u001b[0m\u001b[0m\r",
      "\u001b[K\u001b[0m\u001b[0m    node1: Progress: 1% (Rate: 6146k/s, Estimated time remaining: 0:01:55)\u001b[0m\u001b[0m\r",
      "\u001b[K\u001b[0m\u001b[0m    node1: Progress: 2% (Rate: 6743k/s, Estimated time remaining: 0:01:24)\u001b[0m\u001b[0m\r",
      "\u001b[K\u001b[0m\u001b[0m    node1: Progress: 4% (Rate: 7257k/s, Estimated time remaining: 0:01:11)\u001b[0m\u001b[0m\r",
      "\u001b[K\u001b[0m\u001b[0m    node1: Progress: 6% (Rate: 7743k/s, Estimated time remaining: 0:01:03)\u001b[0m\u001b[0m\r",
      "\u001b[K\u001b[0m\u001b[0m    node1: Progress: 8% (Rate: 7768k/s, Estimated time remaining: 0:01:00)\u001b[0m\u001b[0m\r",
      "\u001b[K\u001b[0m\u001b[0m    node1: Progress: 10% (Rate: 8243k/s, Estimated time remaining: 0:00:57)\u001b[0m\u001b[0m\r",
      "\u001b[K\u001b[0m\u001b[0m    node1: Progress: 12% (Rate: 8656k/s, Estimated time remaining: 0:00:53)\u001b[0m\u001b[0m\r",
      "\u001b[K\u001b[0m\u001b[0m    node1: Progress: 14% (Rate: 9019k/s, Estimated time remaining: 0:00:50)\u001b[0m\u001b[0m\r",
      "\u001b[K\u001b[0m\u001b[0m    node1: Progress: 16% (Rate: 9369k/s, Estimated time remaining: 0:00:47)\u001b[0m\u001b[0m\r",
      "\u001b[K\u001b[0m\u001b[0m    node1: Progress: 19% (Rate: 9945k/s, Estimated time remaining: 0:00:44)\u001b[0m\u001b[0m\r",
      "\u001b[K\u001b[0m\u001b[0m    node1: Progress: 21% (Rate: 9.9M/s, Estimated time remaining: 0:00:42)\u001b[0m\u001b[0m\r",
      "\u001b[K\u001b[0m\u001b[0m    node1: Progress: 23% (Rate: 10.1M/s, Estimated time remaining: 0:00:40)\u001b[0m\u001b[0m\r",
      "\u001b[K\u001b[0m\u001b[0m    node1: Progress: 25% (Rate: 9.9M/s, Estimated time remaining: 0:00:39)\u001b[0m\u001b[0m\r",
      "\u001b[K\u001b[0m\u001b[0m    node1: Progress: 27% (Rate: 9881k/s, Estimated time remaining: 0:00:38)\u001b[0m\u001b[0m\r",
      "\u001b[K\u001b[0m\u001b[0m    node1: Progress: 29% (Rate: 9831k/s, Estimated time remaining: 0:00:36)\u001b[0m\u001b[0m\r",
      "\u001b[K\u001b[0m\u001b[0m    node1: Progress: 31% (Rate: 9936k/s, Estimated time remaining: 0:00:35)\u001b[0m\u001b[0m\r",
      "\u001b[K\u001b[0m\u001b[0m    node1: Progress: 34% (Rate: 9708k/s, Estimated time remaining: 0:00:34)\u001b[0m\u001b[0m\r",
      "\u001b[K\u001b[0m\u001b[0m    node1: Progress: 36% (Rate: 9.8M/s, Estimated time remaining: 0:00:32)\u001b[0m\u001b[0m\r",
      "\u001b[K\u001b[0m\u001b[0m    node1: Progress: 38% (Rate: 10.1M/s, Estimated time remaining: 0:00:31)\u001b[0m\u001b[0m\r",
      "\u001b[K\u001b[0m\u001b[0m    node1: Progress: 41% (Rate: 10.1M/s, Estimated time remaining: 0:00:29)\u001b[0m\u001b[0m\r",
      "\u001b[K\u001b[0m\u001b[0m    node1: Progress: 43% (Rate: 10.0M/s, Estimated time remaining: 0:00:28)\u001b[0m\u001b[0m\r",
      "\u001b[K\u001b[0m\u001b[0m    node1: Progress: 45% (Rate: 10.3M/s, Estimated time remaining: 0:00:27)\u001b[0m\u001b[0m\r",
      "\u001b[K\u001b[0m\u001b[0m    node1: Progress: 47% (Rate: 10.4M/s, Estimated time remaining: 0:00:25)\u001b[0m\u001b[0m\r",
      "\u001b[K\u001b[0m\u001b[0m    node1: Progress: 50% (Rate: 10.3M/s, Estimated time remaining: 0:00:24)\u001b[0m\u001b[0m\r",
      "\u001b[K\u001b[0m\u001b[0m    node1: Progress: 52% (Rate: 10.1M/s, Estimated time remaining: 0:00:23)\u001b[0m\u001b[0m\r",
      "\u001b[K\u001b[0m\u001b[0m    node1: Progress: 54% (Rate: 9980k/s, Estimated time remaining: 0:00:22)\u001b[0m\u001b[0m\r",
      "\u001b[K\u001b[0m\u001b[0m    node1: Progress: 55% (Rate: 9577k/s, Estimated time remaining: 0:00:22)\u001b[0m\u001b[0m\r",
      "\u001b[K\u001b[0m\u001b[0m    node1: Progress: 58% (Rate: 9277k/s, Estimated time remaining: 0:00:20)\u001b[0m\u001b[0m\r",
      "\u001b[K\u001b[0m\u001b[0m    node1: Progress: 60% (Rate: 9236k/s, Estimated time remaining: 0:00:19)\u001b[0m\u001b[0m\r",
      "\u001b[K\u001b[0m\u001b[0m    node1: Progress: 62% (Rate: 9143k/s, Estimated time remaining: 0:00:18)\u001b[0m\u001b[0m\r",
      "\u001b[K\u001b[0m\u001b[0m    node1: Progress: 64% (Rate: 9319k/s, Estimated time remaining: 0:00:17)\u001b[0m\u001b[0m\r",
      "\u001b[K\u001b[0m\u001b[0m    node1: Progress: 65% (Rate: 8698k/s, Estimated time remaining: 0:00:17)\u001b[0m\u001b[0m\r",
      "\u001b[K\u001b[0m\u001b[0m    node1: Progress: 66% (Rate: 8091k/s, Estimated time remaining: 0:00:16)\u001b[0m\u001b[0m\r",
      "\u001b[K\u001b[0m\u001b[0m    node1: Progress: 68% (Rate: 7313k/s, Estimated time remaining: 0:00:16)\u001b[0m\u001b[0m\r",
      "\u001b[K\u001b[0m\u001b[0m    node1: Progress: 69% (Rate: 6826k/s, Estimated time remaining: 0:00:15)\u001b[0m\u001b[0m\r",
      "\u001b[K\u001b[0m\u001b[0m    node1: Progress: 71% (Rate: 6542k/s, Estimated time remaining: 0:00:15)\u001b[0m\u001b[0m\r",
      "\u001b[K\u001b[0m\u001b[0m    node1: Progress: 73% (Rate: 7044k/s, Estimated time remaining: 0:00:14)\u001b[0m\u001b[0m\r",
      "\u001b[K\u001b[0m\u001b[0m    node1: Progress: 74% (Rate: 7453k/s, Estimated time remaining: 0:00:13)\u001b[0m\u001b[0m\r",
      "\u001b[K\u001b[0m\u001b[0m    node1: Progress: 76% (Rate: 7640k/s, Estimated time remaining: 0:00:12)\u001b[0m\u001b[0m\r",
      "\u001b[K\u001b[0m\u001b[0m    node1: Progress: 78% (Rate: 7746k/s, Estimated time remaining: 0:00:11)\u001b[0m\u001b[0m\r",
      "\u001b[K\u001b[0m\u001b[0m    node1: Progress: 79% (Rate: 7717k/s, Estimated time remaining: 0:00:10)\u001b[0m\u001b[0m\r",
      "\u001b[K\u001b[0m\u001b[0m    node1: Progress: 81% (Rate: 7715k/s, Estimated time remaining: 0:00:10)\u001b[0m\u001b[0m\r",
      "\u001b[K\u001b[0m\u001b[0m    node1: Progress: 83% (Rate: 7785k/s, Estimated time remaining: 0:00:09)\u001b[0m\u001b[0m\r",
      "\u001b[K\u001b[0m\u001b[0m    node1: Progress: 85% (Rate: 8246k/s, Estimated time remaining: 0:00:07)\u001b[0m\u001b[0m\r",
      "\u001b[K\u001b[0m\u001b[0m    node1: Progress: 87% (Rate: 8738k/s, Estimated time remaining: 0:00:06)\u001b[0m\u001b[0m\r",
      "\u001b[K\u001b[0m\u001b[0m    node1: Progress: 89% (Rate: 9147k/s, Estimated time remaining: 0:00:05)\u001b[0m\u001b[0m\r",
      "\u001b[K\u001b[0m\u001b[0m    node1: Progress: 91% (Rate: 9523k/s, Estimated time remaining: 0:00:04)\u001b[0m\u001b[0m\r",
      "\u001b[K\u001b[0m\u001b[0m    node1: Progress: 94% (Rate: 9806k/s, Estimated time remaining: 0:00:03)\u001b[0m\u001b[0m\r",
      "\u001b[K\u001b[0m\u001b[0m    node1: Progress: 96% (Rate: 9742k/s, Estimated time remaining: 0:00:02)\u001b[0m\u001b[0m\r",
      "\u001b[K\u001b[0m\u001b[0m    node1: Progress: 97% (Rate: 9263k/s, Estimated time remaining: 0:00:01)\u001b[0m\u001b[0m\r",
      "\u001b[K\u001b[0m\u001b[0m    node1: Progress: 98% (Rate: 8576k/s, Estimated time remaining: --:--:--)\u001b[0m\u001b[0m\r",
      "\u001b[K\u001b[0m\u001b[0m    node1: Progress: 99% (Rate: 7570k/s, Estimated time remaining: --:--:--)\u001b[0m\u001b[0m\r",
      "\u001b[K\u001b[0m\u001b[1;32m==> node1: Successfully added box 'centos/7' (v1609.01) for 'virtualbox'!\u001b[0m\r\n",
      "\u001b[1m==> node1: Importing base box 'centos/7'...\u001b[0m\r\n",
      "\u001b[0m\r",
      "\u001b[K\u001b[0m\u001b[0mProgress: 20%\u001b[0m\u001b[0m\r",
      "\u001b[K\u001b[0m\u001b[0mProgress: 40%\u001b[0m\u001b[0m\r",
      "\u001b[K\u001b[0m\u001b[0mProgress: 70%\u001b[0m\u001b[0m\r",
      "\u001b[K\u001b[0m\u001b[0mProgress: 90%\u001b[0m\u001b[0m\r",
      "\u001b[K\u001b[0m\u001b[1m==> node1: Matching MAC address for NAT networking...\u001b[0m\r\n",
      "\u001b[1m==> node1: Checking if box 'centos/7' is up to date...\u001b[0m\r\n",
      "\u001b[1m==> node1: Setting the name of the VM: labs_node1_1477910979585_72722\u001b[0m\r\n",
      "\u001b[1m==> node1: Clearing any previously set network interfaces...\u001b[0m\r\n",
      "\u001b[1m==> node1: Preparing network interfaces based on configuration...\u001b[0m\r\n",
      "\u001b[0m    node1: Adapter 1: nat\u001b[0m\r\n",
      "\u001b[1m==> node1: Forwarding ports...\u001b[0m\r\n",
      "\u001b[0m    node1: 80 (guest) => 8080 (host) (adapter 1)\u001b[0m\r\n",
      "\u001b[0m    node1: 6080 (guest) => 6080 (host) (adapter 1)\u001b[0m\r\n",
      "\u001b[0m    node1: 22 (guest) => 2222 (host) (adapter 1)\u001b[0m\r\n",
      "\u001b[1m==> node1: Booting VM...\u001b[0m\r\n",
      "\u001b[1m==> node1: Waiting for machine to boot. This may take a few minutes...\u001b[0m\r\n",
      "\u001b[0m    node1: SSH address: 127.0.0.1:2222\u001b[0m\r\n",
      "\u001b[0m    node1: SSH username: vagrant\u001b[0m\r\n",
      "\u001b[0m    node1: SSH auth method: private key\u001b[0m\r\n",
      "\u001b[0m    node1: \r\n",
      "    node1: Vagrant insecure key detected. Vagrant will automatically replace\r\n",
      "    node1: this with a newly generated keypair for better security.\u001b[0m\r\n",
      "\u001b[0m    node1: \r\n",
      "    node1: Inserting generated public key within guest...\u001b[0m\r\n",
      "\u001b[0m    node1: Removing insecure key from the guest if it's present...\u001b[0m\r\n",
      "\u001b[0m    node1: Key inserted! Disconnecting and reconnecting using new SSH key...\u001b[0m\r\n",
      "\u001b[1m==> node1: Machine booted and ready!\u001b[0m\r\n",
      "\u001b[1m==> node1: Checking for guest additions in VM...\u001b[0m\r\n",
      "\u001b[0m    node1: No guest additions were detected on the base box for this VM! Guest\r\n",
      "    node1: additions are required for forwarded ports, shared folders, host only\r\n",
      "    node1: networking, and more. If SSH fails on this machine, please install\r\n",
      "    node1: the guest additions and repackage the box to continue.\r\n",
      "    node1: \r\n",
      "    node1: This is not an error message; everything may continue to work properly,\r\n",
      "    node1: in which case you may ignore this message.\u001b[0m\r\n",
      "\u001b[1m==> node1: Setting hostname...\u001b[0m\r\n",
      "\u001b[1m==> node1: Rsyncing folder: /home/group20/2016-Oct-31/LinuxConEU-ContainerOrchestration/labs/ => /vagrant\u001b[0m\r\n",
      "\u001b[1m==> node1: Running provisioner: ansible...\u001b[0m\r\n",
      "\u001b[0m    node1: Running ansible-playbook...\u001b[0m\r\n",
      "\u001b[0mPYTHONUNBUFFERED=1 ANSIBLE_FORCE_COLOR=true ANSIBLE_HOST_KEY_CHECKING=false ANSIBLE_SSH_ARGS='-o UserKnownHostsFile=/dev/null -o IdentitiesOnly=yes -o ControlMaster=auto -o ControlPersist=60s' ansible-playbook --connection=ssh --timeout=30 --limit=\"node1\" --inventory-file=/home/group20/2016-Oct-31/LinuxConEU-ContainerOrchestration/labs/.vagrant/provisioners/ansible/inventory -v playbook.yml\u001b[0m\r\n",
      "\u001b[0mUsing /etc/ansible/ansible.cfg as config file\r\n",
      "\u001b[0m\u001b[0m\r\n",
      "PLAY [all] *********************************************************************\r\n",
      "\u001b[0m\u001b[0m\r\n",
      "TASK [setup] *******************************************************************\r\n",
      "\u001b[0m\u001b[0m\u001b[0;32mok: [node1]\u001b[0m\r\n",
      "\u001b[0m\u001b[0m\r\n",
      "TASK [base : install epel repository] ******************************************\r\n",
      "\u001b[0m\u001b[0m\u001b[0;33mchanged: [node1] => {\"changed\": true, \"msg\": \"warning: /var/cache/yum/x86_64/7/extras/packages/epel-release-7-6.noarch.rpm: Header V3 RSA/SHA256 Signature, key ID f4a80eb5: NOKEY\\nImporting GPG key 0xF4A80EB5:\\n Userid     : \\\"CentOS-7 Key (CentOS 7 Official Signing Key) <security@centos.org>\\\"\\n Fingerprint: 6341 ab27 53d7 8a78 a7c2 7bb1 24c6 a8a7 f4a8 0eb5\\n Package    : centos-release-7-2.1511.el7.centos.2.10.x86_64 (@anaconda)\\n From       : /etc/pki/rpm-gpg/RPM-GPG-KEY-CentOS-7\\n\", \"rc\": 0, \"results\": [\"Loaded plugins: fastestmirror\\nLoading mirror speeds from cached hostfile\\n * base: miroir.univ-paris13.fr\\n * extras: centos.quelquesmots.fr\\n * updates: centos.quelquesmots.fr\\nResolving Dependencies\\n--> Running transaction check\\n---> Package epel-release.noarch 0:7-6 will be installed\\n--> Finished Dependency Resolution\\n\\nDependencies Resolved\\n\\n================================================================================\\n Package                Arch             Version         Repository        Size\\n================================================================================\\nInstalling:\\n epel-release           noarch           7-6             extras            14 k\\n\\nTransaction Summary\\n================================================================================\\nInstall  1 Package\\n\\nTotal download size: 14 k\\nInstalled size: 24 k\\nDownloading packages:\\nPublic key for epel-release-7-6.noarch.rpm is not installed\\nRetrieving key from file:///etc/pki/rpm-gpg/RPM-GPG-KEY-CentOS-7\\nRunning transaction check\\nRunning transaction test\\nTransaction test succeeded\\nRunning transaction\\n  Installing : epel-release-7-6.noarch                                      1/1 \\n  Verifying  : epel-release-7-6.noarch                                      1/1 \\n\\nInstalled:\\n  epel-release.noarch 0:7-6                                                     \\n\\nComplete!\\n\"]}\u001b[0m\r\n",
      "\u001b[0m\u001b[0m\r\n",
      "TASK [base : install utilities] ************************************************\r\n",
      "\u001b[0m\u001b[0m\u001b[0;33mchanged: [node1] => (item=[u'emacs-nox', u'git', u'tmux', u'zsh', u'yum-utils', u'bash-completion', u'crudini']) => {\"changed\": true, \"item\": [\"emacs-nox\", \"git\", \"tmux\", \"zsh\", \"yum-utils\", \"bash-completion\", \"crudini\"], \"msg\": \"warning: /var/cache/yum/x86_64/7/epel/packages/crudini-0.7-1.el7.noarch.rpm: Header V3 RSA/SHA256 Signature, key ID 352c64e5: NOKEY\\nImporting GPG key 0x352C64E5:\\n Userid     : \\\"Fedora EPEL (7) <epel@fedoraproject.org>\\\"\\n Fingerprint: 91e9 7d7c 4a5e 96f1 7f3e 888f 6a2f aea2 352c 64e5\\n Package    : epel-release-7-6.noarch (@extras)\\n From       : /etc/pki/rpm-gpg/RPM-GPG-KEY-EPEL-7\\n\", \"rc\": 0, \"results\": [\"yum-utils-1.1.31-34.el7.noarch providing yum-utils is already installed\", \"bash-completion-1:2.1-6.el7.noarch providing bash-completion is already installed\", \"Loaded plugins: fastestmirror\\nLoading mirror speeds from cached hostfile\\n * base: miroir.univ-paris13.fr\\n * epel: epel.mirrors.ovh.net\\n * extras: centos.quelquesmots.fr\\n * updates: centos.quelquesmots.fr\\nResolving Dependencies\\n--> Running transaction check\\n---> Package crudini.noarch 0:0.7-1.el7 will be installed\\n---> Package emacs-nox.x86_64 1:24.3-18.el7 will be installed\\n--> Processing Dependency: emacs-common = 1:24.3-18.el7 for package: 1:emacs-nox-24.3-18.el7.x86_64\\n--> Processing Dependency: libgpm.so.2()(64bit) for package: 1:emacs-nox-24.3-18.el7.x86_64\\n---> Package git.x86_64 0:1.8.3.1-6.el7_2.1 will be installed\\n--> Processing Dependency: perl-Git = 1.8.3.1-6.el7_2.1 for package: git-1.8.3.1-6.el7_2.1.x86_64\\n--> Processing Dependency: perl >= 5.008 for package: git-1.8.3.1-6.el7_2.1.x86_64\\n--> Processing Dependency: perl(warnings) for package: git-1.8.3.1-6.el7_2.1.x86_64\\n--> Processing Dependency: perl(vars) for package: git-1.8.3.1-6.el7_2.1.x86_64\\n--> Processing Dependency: perl(strict) for package: git-1.8.3.1-6.el7_2.1.x86_64\\n--> Processing Dependency: perl(lib) for package: git-1.8.3.1-6.el7_2.1.x86_64\\n--> Processing Dependency: perl(Term::ReadKey) for package: git-1.8.3.1-6.el7_2.1.x86_64\\n--> Processing Dependency: perl(Git) for package: git-1.8.3.1-6.el7_2.1.x86_64\\n--> Processing Dependency: perl(Getopt::Long) for package: git-1.8.3.1-6.el7_2.1.x86_64\\n--> Processing Dependency: perl(File::stat) for package: git-1.8.3.1-6.el7_2.1.x86_64\\n--> Processing Dependency: perl(File::Temp) for package: git-1.8.3.1-6.el7_2.1.x86_64\\n--> Processing Dependency: perl(File::Spec) for package: git-1.8.3.1-6.el7_2.1.x86_64\\n--> Processing Dependency: perl(File::Path) for package: git-1.8.3.1-6.el7_2.1.x86_64\\n--> Processing Dependency: perl(File::Find) for package: git-1.8.3.1-6.el7_2.1.x86_64\\n--> Processing Dependency: perl(File::Copy) for package: git-1.8.3.1-6.el7_2.1.x86_64\\n--> Processing Dependency: perl(File::Basename) for package: git-1.8.3.1-6.el7_2.1.x86_64\\n--> Processing Dependency: perl(Exporter) for package: git-1.8.3.1-6.el7_2.1.x86_64\\n--> Processing Dependency: perl(Error) for package: git-1.8.3.1-6.el7_2.1.x86_64\\n--> Processing Dependency: /usr/bin/perl for package: git-1.8.3.1-6.el7_2.1.x86_64\\n--> Processing Dependency: libgnome-keyring.so.0()(64bit) for package: git-1.8.3.1-6.el7_2.1.x86_64\\n---> Package tmux.x86_64 0:1.8-4.el7 will be installed\\n---> Package zsh.x86_64 0:5.0.2-14.el7_2.2 will be installed\\n--> Running transaction check\\n---> Package emacs-common.x86_64 1:24.3-18.el7 will be installed\\n--> Processing Dependency: emacs-filesystem for package: 1:emacs-common-24.3-18.el7.x86_64\\n--> Processing Dependency: liblockfile.so.1()(64bit) for package: 1:emacs-common-24.3-18.el7.x86_64\\n---> Package gpm-libs.x86_64 0:1.20.7-5.el7 will be installed\\n---> Package libgnome-keyring.x86_64 0:3.8.0-3.el7 will be installed\\n---> Package perl.x86_64 4:5.16.3-286.el7 will be installed\\n--> Processing Dependency: perl-libs = 4:5.16.3-286.el7 for package: 4:perl-5.16.3-286.el7.x86_64\\n--> Processing Dependency: perl(Socket) >= 1.3 for package: 4:perl-5.16.3-286.el7.x86_64\\n--> Processing Dependency: perl(Scalar::Util) >= 1.10 for package: 4:perl-5.16.3-286.el7.x86_64\\n--> Processing Dependency: perl-macros for package: 4:perl-5.16.3-286.el7.x86_64\\n--> Processing Dependency: perl-libs for package: 4:perl-5.16.3-286.el7.x86_64\\n--> Processing Dependency: perl(threads::shared) for package: 4:perl-5.16.3-286.el7.x86_64\\n--> Processing Dependency: perl(threads) for package: 4:perl-5.16.3-286.el7.x86_64\\n--> Processing Dependency: perl(constant) for package: 4:perl-5.16.3-286.el7.x86_64\\n--> Processing Dependency: perl(Time::Local) for package: 4:perl-5.16.3-286.el7.x86_64\\n--> Processing Dependency: perl(Time::HiRes) for package: 4:perl-5.16.3-286.el7.x86_64\\n--> Processing Dependency: perl(Storable) for package: 4:perl-5.16.3-286.el7.x86_64\\n--> Processing Dependency: perl(Socket) for package: 4:perl-5.16.3-286.el7.x86_64\\n--> Processing Dependency: perl(Scalar::Util) for package: 4:perl-5.16.3-286.el7.x86_64\\n--> Processing Dependency: perl(Pod::Simple::XHTML) for package: 4:perl-5.16.3-286.el7.x86_64\\n--> Processing Dependency: perl(Pod::Simple::Search) for package: 4:perl-5.16.3-286.el7.x86_64\\n--> Processing Dependency: perl(Filter::Util::Call) for package: 4:perl-5.16.3-286.el7.x86_64\\n--> Processing Dependency: perl(Carp) for package: 4:perl-5.16.3-286.el7.x86_64\\n--> Processing Dependency: libperl.so()(64bit) for package: 4:perl-5.16.3-286.el7.x86_64\\n---> Package perl-Error.noarch 1:0.17020-2.el7 will be installed\\n---> Package perl-Exporter.noarch 0:5.68-3.el7 will be installed\\n---> Package perl-File-Path.noarch 0:2.09-2.el7 will be installed\\n---> Package perl-File-Temp.noarch 0:0.23.01-3.el7 will be installed\\n---> Package perl-Getopt-Long.noarch 0:2.40-2.el7 will be installed\\n--> Processing Dependency: perl(Pod::Usage) >= 1.14 for package: perl-Getopt-Long-2.40-2.el7.noarch\\n--> Processing Dependency: perl(Text::ParseWords) for package: perl-Getopt-Long-2.40-2.el7.noarch\\n---> Package perl-Git.noarch 0:1.8.3.1-6.el7_2.1 will be installed\\n---> Package perl-PathTools.x86_64 0:3.40-5.el7 will be installed\\n---> Package perl-TermReadKey.x86_64 0:2.30-20.el7 will be installed\\n--> Running transaction check\\n---> Package emacs-filesystem.noarch 1:24.3-18.el7 will be installed\\n---> Package liblockfile.x86_64 0:1.08-17.el7 will be installed\\n---> Package perl-Carp.noarch 0:1.26-244.el7 will be installed\\n---> Package perl-Filter.x86_64 0:1.49-3.el7 will be installed\\n---> Package perl-Pod-Simple.noarch 1:3.28-4.el7 will be installed\\n--> Processing Dependency: perl(Pod::Escapes) >= 1.04 for package: 1:perl-Pod-Simple-3.28-4.el7.noarch\\n--> Processing Dependency: perl(Encode) for package: 1:perl-Pod-Simple-3.28-4.el7.noarch\\n---> Package perl-Pod-Usage.noarch 0:1.63-3.el7 will be installed\\n--> Processing Dependency: perl(Pod::Text) >= 3.15 for package: perl-Pod-Usage-1.63-3.el7.noarch\\n--> Processing Dependency: perl-Pod-Perldoc for package: perl-Pod-Usage-1.63-3.el7.noarch\\n---> Package perl-Scalar-List-Utils.x86_64 0:1.27-248.el7 will be installed\\n---> Package perl-Socket.x86_64 0:2.010-3.el7 will be installed\\n---> Package perl-Storable.x86_64 0:2.45-3.el7 will be installed\\n---> Package perl-Text-ParseWords.noarch 0:3.29-4.el7 will be installed\\n---> Package perl-Time-HiRes.x86_64 4:1.9725-3.el7 will be installed\\n---> Package perl-Time-Local.noarch 0:1.2300-2.el7 will be installed\\n---> Package perl-constant.noarch 0:1.27-2.el7 will be installed\\n---> Package perl-libs.x86_64 4:5.16.3-286.el7 will be installed\\n---> Package perl-macros.x86_64 4:5.16.3-286.el7 will be installed\\n---> Package perl-threads.x86_64 0:1.87-4.el7 will be installed\\n---> Package perl-threads-shared.x86_64 0:1.43-6.el7 will be installed\\n--> Running transaction check\\n---> Package perl-Encode.x86_64 0:2.51-7.el7 will be installed\\n---> Package perl-Pod-Escapes.noarch 1:1.04-286.el7 will be installed\\n---> Package perl-Pod-Perldoc.noarch 0:3.20-4.el7 will be installed\\n--> Processing Dependency: perl(parent) for package: perl-Pod-Perldoc-3.20-4.el7.noarch\\n--> Processing Dependency: perl(HTTP::Tiny) for package: perl-Pod-Perldoc-3.20-4.el7.noarch\\n---> Package perl-podlators.noarch 0:2.5.1-3.el7 will be installed\\n--> Running transaction check\\n---> Package perl-HTTP-Tiny.noarch 0:0.033-3.el7 will be installed\\n---> Package perl-parent.noarch 1:0.225-244.el7 will be installed\\n--> Finished Dependency Resolution\\n\\nDependencies Resolved\\n\\n================================================================================\\n Package                    Arch       Version                Repository   Size\\n================================================================================\\nInstalling:\\n crudini                    noarch     0.7-1.el7              epel         23 k\\n emacs-nox                  x86_64     1:24.3-18.el7          base        2.4 M\\n git                        x86_64     1.8.3.1-6.el7_2.1      updates     4.4 M\\n tmux                       x86_64     1.8-4.el7              base        243 k\\n zsh                        x86_64     5.0.2-14.el7_2.2       updates     2.4 M\\nInstalling for dependencies:\\n emacs-common               x86_64     1:24.3-18.el7          base         20 M\\n emacs-filesystem           noarch     1:24.3-18.el7          base         58 k\\n gpm-libs                   x86_64     1.20.7-5.el7           base         32 k\\n libgnome-keyring           x86_64     3.8.0-3.el7            base        109 k\\n liblockfile                x86_64     1.08-17.el7            base         21 k\\n perl                       x86_64     4:5.16.3-286.el7       base        8.0 M\\n perl-Carp                  noarch     1.26-244.el7           base         19 k\\n perl-Encode                x86_64     2.51-7.el7             base        1.5 M\\n perl-Error                 noarch     1:0.17020-2.el7        base         32 k\\n perl-Exporter              noarch     5.68-3.el7             base         28 k\\n perl-File-Path             noarch     2.09-2.el7             base         26 k\\n perl-File-Temp             noarch     0.23.01-3.el7          base         56 k\\n perl-Filter                x86_64     1.49-3.el7             base         76 k\\n perl-Getopt-Long           noarch     2.40-2.el7             base         56 k\\n perl-Git                   noarch     1.8.3.1-6.el7_2.1      updates      53 k\\n perl-HTTP-Tiny             noarch     0.033-3.el7            base         38 k\\n perl-PathTools             x86_64     3.40-5.el7             base         82 k\\n perl-Pod-Escapes           noarch     1:1.04-286.el7         base         50 k\\n perl-Pod-Perldoc           noarch     3.20-4.el7             base         87 k\\n perl-Pod-Simple            noarch     1:3.28-4.el7           base        216 k\\n perl-Pod-Usage             noarch     1.63-3.el7             base         27 k\\n perl-Scalar-List-Utils     x86_64     1.27-248.el7           base         36 k\\n perl-Socket                x86_64     2.010-3.el7            base         49 k\\n perl-Storable              x86_64     2.45-3.el7             base         77 k\\n perl-TermReadKey           x86_64     2.30-20.el7            base         31 k\\n perl-Text-ParseWords       noarch     3.29-4.el7             base         14 k\\n perl-Time-HiRes            x86_64     4:1.9725-3.el7         base         45 k\\n perl-Time-Local            noarch     1.2300-2.el7           base         24 k\\n perl-constant              noarch     1.27-2.el7             base         19 k\\n perl-libs                  x86_64     4:5.16.3-286.el7       base        687 k\\n perl-macros                x86_64     4:5.16.3-286.el7       base         43 k\\n perl-parent                noarch     1:0.225-244.el7        base         12 k\\n perl-podlators             noarch     2.5.1-3.el7            base        112 k\\n perl-threads               x86_64     1.87-4.el7             base         49 k\\n perl-threads-shared        x86_64     1.43-6.el7             base         39 k\\n\\nTransaction Summary\\n================================================================================\\nInstall  5 Packages (+35 Dependent packages)\\n\\nTotal download size: 42 M\\nInstalled size: 146 M\\nDownloading packages:\\nPublic key for crudini-0.7-1.el7.noarch.rpm is not installed\\n--------------------------------------------------------------------------------\\nTotal                                              7.6 MB/s |  42 MB  00:05     \\nRetrieving key from file:///etc/pki/rpm-gpg/RPM-GPG-KEY-EPEL-7\\nRunning transaction check\\nRunning transaction test\\nTransaction test succeeded\\nRunning transaction\\n  Installing : 1:perl-parent-0.225-244.el7.noarch                          1/40 \\n  Installing : perl-HTTP-Tiny-0.033-3.el7.noarch                           2/40 \\n  Installing : perl-podlators-2.5.1-3.el7.noarch                           3/40 \\n  Installing : perl-Pod-Perldoc-3.20-4.el7.noarch                          4/40 \\n  Installing : 1:perl-Pod-Escapes-1.04-286.el7.noarch                      5/40 \\n  Installing : perl-Encode-2.51-7.el7.x86_64                               6/40 \\n  Installing : perl-Text-ParseWords-3.29-4.el7.noarch                      7/40 \\n  Installing : perl-Pod-Usage-1.63-3.el7.noarch                            8/40 \\n  Installing : 4:perl-libs-5.16.3-286.el7.x86_64                           9/40 \\n  Installing : 4:perl-macros-5.16.3-286.el7.x86_64                        10/40 \\n  Installing : 4:perl-Time-HiRes-1.9725-3.el7.x86_64                      11/40 \\n  Installing : perl-Exporter-5.68-3.el7.noarch                            12/40 \\n  Installing : perl-constant-1.27-2.el7.noarch                            13/40 \\n  Installing : perl-Time-Local-1.2300-2.el7.noarch                        14/40 \\n  Installing : perl-Socket-2.010-3.el7.x86_64                             15/40 \\n  Installing : perl-Carp-1.26-244.el7.noarch                              16/40 \\n  Installing : perl-Storable-2.45-3.el7.x86_64                            17/40 \\n  Installing : perl-PathTools-3.40-5.el7.x86_64                           18/40 \\n  Installing : perl-Scalar-List-Utils-1.27-248.el7.x86_64                 19/40 \\n  Installing : 1:perl-Pod-Simple-3.28-4.el7.noarch                        20/40 \\n  Installing : perl-File-Temp-0.23.01-3.el7.noarch                        21/40 \\n  Installing : perl-File-Path-2.09-2.el7.noarch                           22/40 \\n  Installing : perl-threads-shared-1.43-6.el7.x86_64                      23/40 \\n  Installing : perl-threads-1.87-4.el7.x86_64                             24/40 \\n  Installing : perl-Filter-1.49-3.el7.x86_64                              25/40 \\n  Installing : perl-Getopt-Long-2.40-2.el7.noarch                         26/40 \\n  Installing : 4:perl-5.16.3-286.el7.x86_64                               27/40 \\n  Installing : 1:perl-Error-0.17020-2.el7.noarch                          28/40 \\n  Installing : perl-TermReadKey-2.30-20.el7.x86_64                        29/40 \\n  Installing : libgnome-keyring-3.8.0-3.el7.x86_64                        30/40 \\n  Installing : perl-Git-1.8.3.1-6.el7_2.1.noarch                          31/40 \\n  Installing : git-1.8.3.1-6.el7_2.1.x86_64                               32/40 \\n  Installing : 1:emacs-filesystem-24.3-18.el7.noarch                      33/40 \\n  Installing : gpm-libs-1.20.7-5.el7.x86_64                               34/40 \\n  Installing : liblockfile-1.08-17.el7.x86_64                             35/40 \\n  Installing : 1:emacs-common-24.3-18.el7.x86_64                          36/40 \\n  Installing : 1:emacs-nox-24.3-18.el7.x86_64                             37/40 \\n  Installing : zsh-5.0.2-14.el7_2.2.x86_64                                38/40 \\n  Installing : crudini-0.7-1.el7.noarch                                   39/40 \\n  Installing : tmux-1.8-4.el7.x86_64                                      40/40 \\n  Verifying  : perl-HTTP-Tiny-0.033-3.el7.noarch                           1/40 \\n  Verifying  : perl-Git-1.8.3.1-6.el7_2.1.noarch                           2/40 \\n  Verifying  : perl-threads-shared-1.43-6.el7.x86_64                       3/40 \\n  Verifying  : 4:perl-Time-HiRes-1.9725-3.el7.x86_64                       4/40 \\n  Verifying  : perl-Exporter-5.68-3.el7.noarch                             5/40 \\n  Verifying  : perl-constant-1.27-2.el7.noarch                             6/40 \\n  Verifying  : perl-PathTools-3.40-5.el7.x86_64                            7/40 \\n  Verifying  : 4:perl-libs-5.16.3-286.el7.x86_64                           8/40 \\n  Verifying  : 4:perl-macros-5.16.3-286.el7.x86_64                         9/40 \\n  Verifying  : 1:perl-Pod-Escapes-1.04-286.el7.noarch                     10/40 \\n  Verifying  : 1:perl-parent-0.225-244.el7.noarch                         11/40 \\n  Verifying  : perl-TermReadKey-2.30-20.el7.x86_64                        12/40 \\n  Verifying  : tmux-1.8-4.el7.x86_64                                      13/40 \\n  Verifying  : liblockfile-1.08-17.el7.x86_64                             14/40 \\n  Verifying  : perl-File-Temp-0.23.01-3.el7.noarch                        15/40 \\n  Verifying  : crudini-0.7-1.el7.noarch                                   16/40 \\n  Verifying  : 1:perl-Pod-Simple-3.28-4.el7.noarch                        17/40 \\n  Verifying  : perl-Time-Local-1.2300-2.el7.noarch                        18/40 \\n  Verifying  : gpm-libs-1.20.7-5.el7.x86_64                               19/40 \\n  Verifying  : perl-Pod-Perldoc-3.20-4.el7.noarch                         20/40 \\n  Verifying  : perl-Socket-2.010-3.el7.x86_64                             21/40 \\n  Verifying  : 1:emacs-common-24.3-18.el7.x86_64                          22/40 \\n  Verifying  : 1:emacs-filesystem-24.3-18.el7.noarch                      23/40 \\n  Verifying  : perl-Carp-1.26-244.el7.noarch                              24/40 \\n  Verifying  : zsh-5.0.2-14.el7_2.2.x86_64                                25/40 \\n  Verifying  : 1:perl-Error-0.17020-2.el7.noarch                          26/40 \\n  Verifying  : perl-Storable-2.45-3.el7.x86_64                            27/40 \\n  Verifying  : perl-Scalar-List-Utils-1.27-248.el7.x86_64                 28/40 \\n  Verifying  : libgnome-keyring-3.8.0-3.el7.x86_64                        29/40 \\n  Verifying  : perl-Pod-Usage-1.63-3.el7.noarch                           30/40 \\n  Verifying  : perl-Encode-2.51-7.el7.x86_64                              31/40 \\n  Verifying  : 1:emacs-nox-24.3-18.el7.x86_64                             32/40 \\n  Verifying  : perl-podlators-2.5.1-3.el7.noarch                          33/40 \\n  Verifying  : perl-Getopt-Long-2.40-2.el7.noarch                         34/40 \\n  Verifying  : perl-File-Path-2.09-2.el7.noarch                           35/40 \\n  Verifying  : perl-threads-1.87-4.el7.x86_64                             36/40 \\n  Verifying  : perl-Filter-1.49-3.el7.x86_64                              37/40 \\n  Verifying  : perl-Text-ParseWords-3.29-4.el7.noarch                     38/40 \\n  Verifying  : git-1.8.3.1-6.el7_2.1.x86_64                               39/40 \\n  Verifying  : 4:perl-5.16.3-286.el7.x86_64                               40/40 \\n\\nInstalled:\\n  crudini.noarch 0:0.7-1.el7             emacs-nox.x86_64 1:24.3-18.el7        \\n  git.x86_64 0:1.8.3.1-6.el7_2.1         tmux.x86_64 0:1.8-4.el7               \\n  zsh.x86_64 0:5.0.2-14.el7_2.2         \\n\\nDependency Installed:\\n  emacs-common.x86_64 1:24.3-18.el7                                             \\n  emacs-filesystem.noarch 1:24.3-18.el7                                         \\n  gpm-libs.x86_64 0:1.20.7-5.el7                                                \\n  libgnome-keyring.x86_64 0:3.8.0-3.el7                                         \\n  liblockfile.x86_64 0:1.08-17.el7                                              \\n  perl.x86_64 4:5.16.3-286.el7                                                  \\n  perl-Carp.noarch 0:1.26-244.el7                                               \\n  perl-Encode.x86_64 0:2.51-7.el7                                               \\n  perl-Error.noarch 1:0.17020-2.el7                                             \\n  perl-Exporter.noarch 0:5.68-3.el7                                             \\n  perl-File-Path.noarch 0:2.09-2.el7                                            \\n  perl-File-Temp.noarch 0:0.23.01-3.el7                                         \\n  perl-Filter.x86_64 0:1.49-3.el7                                               \\n  perl-Getopt-Long.noarch 0:2.40-2.el7                                          \\n  perl-Git.noarch 0:1.8.3.1-6.el7_2.1                                           \\n  perl-HTTP-Tiny.noarch 0:0.033-3.el7                                           \\n  perl-PathTools.x86_64 0:3.40-5.el7                                            \\n  perl-Pod-Escapes.noarch 1:1.04-286.el7                                        \\n  perl-Pod-Perldoc.noarch 0:3.20-4.el7                                          \\n  perl-Pod-Simple.noarch 1:3.28-4.el7                                           \\n  perl-Pod-Usage.noarch 0:1.63-3.el7                                            \\n  perl-Scalar-List-Utils.x86_64 0:1.27-248.el7                                  \\n  perl-Socket.x86_64 0:2.010-3.el7                                              \\n  perl-Storable.x86_64 0:2.45-3.el7                                             \\n  perl-TermReadKey.x86_64 0:2.30-20.el7                                         \\n  perl-Text-ParseWords.noarch 0:3.29-4.el7                                      \\n  perl-Time-HiRes.x86_64 4:1.9725-3.el7                                         \\n  perl-Time-Local.noarch 0:1.2300-2.el7                                         \\n  perl-constant.noarch 0:1.27-2.el7                                             \\n  perl-libs.x86_64 4:5.16.3-286.el7                                             \\n  perl-macros.x86_64 4:5.16.3-286.el7                                           \\n  perl-parent.noarch 1:0.225-244.el7                                            \\n  perl-podlators.noarch 0:2.5.1-3.el7                                           \\n  perl-threads.x86_64 0:1.87-4.el7                                              \\n  perl-threads-shared.x86_64 0:1.43-6.el7                                       \\n\\nComplete!\\n\"]}\u001b[0m\r\n",
      "\u001b[0m\u001b[0m\r\n",
      "TASK [base : disable SELinux] **************************************************\r\n",
      "\u001b[0m\u001b[0m\u001b[0;33mchanged: [node1] => {\"changed\": true, \"configfile\": \"/etc/selinux/config\", \"msg\": \"runtime state changed from 'enforcing' to 'permissive', config state changed from 'enforcing' to 'permissive'\", \"policy\": \"targeted\", \"state\": \"permissive\"}\u001b[0m\r\n",
      "\u001b[0m\u001b[0m\r\n",
      "TASK [base : disable firewalld] ************************************************\r\n",
      "\u001b[0m\u001b[0m\u001b[0;32mok: [node1] => {\"changed\": false, \"enabled\": false, \"name\": \"firewalld\", \"state\": \"stopped\"}\u001b[0m\r\n",
      "\u001b[0m\u001b[0m\r\n",
      "TASK [base : check if /etc/hosts.orig exists] **********************************\r\n",
      "\u001b[0m\u001b[0m\u001b[0;32mok: [node1] => {\"changed\": false, \"stat\": {\"exists\": false}}\u001b[0m\r\n",
      "\u001b[0m\u001b[0m\r\n",
      "TASK [base : backup original /etc/hosts] ***************************************\r\n",
      "\u001b[0m\u001b[0m\u001b[0;33mchanged: [node1] => {\"changed\": true, \"cmd\": [\"cp\", \"/etc/hosts\", \"/etc/hosts.orig\"], \"delta\": \"0:00:00.003166\", \"end\": \"2016-10-31 10:50:43.708023\", \"rc\": 0, \"start\": \"2016-10-31 10:50:43.704857\", \"stderr\": \"\", \"stdout\": \"\", \"stdout_lines\": [], \"warnings\": []}\u001b[0m\r\n",
      "\u001b[0m\u001b[0m\r\n",
      "TASK [base : generate /etc/hosts] **********************************************\r\n",
      "\u001b[0m\u001b[0m\u001b[0;33mchanged: [node1] => {\"changed\": true, \"checksum\": \"77cd9f1a1318284ec53f8fdb6ae3ecd42d0df8cf\", \"dest\": \"/etc/hosts\", \"gid\": 0, \"group\": \"root\", \"md5sum\": \"cf2e0855e349f300cf0934be89df31ad\", \"mode\": \"0644\", \"owner\": \"root\", \"secontext\": \"system_u:object_r:net_conf_t:s0\", \"size\": 467, \"src\": \"/home/vagrant/.ansible/tmp/ansible-tmp-1477911045.38-171465368981744/source\", \"state\": \"file\", \"uid\": 0}\u001b[0m\r\n",
      "\u001b[0m\u001b[0m\r\n",
      "TASK [base : setup docker repository] ******************************************\r\n",
      "\u001b[0m\u001b[0m\u001b[0;33mchanged: [node1] => {\"changed\": true, \"repo\": \"docker\", \"state\": \"present\"}\u001b[0m\r\n",
      "\u001b[0m\u001b[0m\r\n",
      "TASK [base : remove docker packages from CentOS] *******************************\r\n",
      "\u001b[0m\u001b[0m\u001b[0;36mskipping: [node1] => {\"changed\": false, \"skip_reason\": \"Conditional check failed\", \"skipped\": true}\u001b[0m\r\n",
      "\u001b[0m\u001b[0m\r\n",
      "TASK [base : install docker engine] ********************************************\r\n",
      "\u001b[0m\u001b[0m\u001b[0;33mchanged: [node1] => {\"changed\": true, \"msg\": \"\", \"rc\": 0, \"results\": [\"Loaded plugins: fastestmirror\\nLoading mirror speeds from cached hostfile\\n * base: miroir.univ-paris13.fr\\n * epel: mirror.ibcp.fr\\n * extras: centos.quelquesmots.fr\\n * updates: centos.quelquesmots.fr\\nResolving Dependencies\\n--> Running transaction check\\n---> Package docker.x86_64 0:1.10.3-46.el7.centos.14 will be installed\\n--> Processing Dependency: docker-common = 1.10.3-46.el7.centos.14 for package: docker-1.10.3-46.el7.centos.14.x86_64\\n--> Processing Dependency: oci-systemd-hook >= 1:0.1.4-4 for package: docker-1.10.3-46.el7.centos.14.x86_64\\n--> Processing Dependency: oci-register-machine >= 1:0-1.8 for package: docker-1.10.3-46.el7.centos.14.x86_64\\n--> Processing Dependency: docker-selinux >= 1.10.3-46.el7.centos.14 for package: docker-1.10.3-46.el7.centos.14.x86_64\\n--> Processing Dependency: libseccomp.so.2()(64bit) for package: docker-1.10.3-46.el7.centos.14.x86_64\\n--> Running transaction check\\n---> Package docker-common.x86_64 0:1.10.3-46.el7.centos.14 will be installed\\n---> Package docker-selinux.x86_64 0:1.10.3-46.el7.centos.14 will be installed\\n--> Processing Dependency: policycoreutils-python for package: docker-selinux-1.10.3-46.el7.centos.14.x86_64\\n---> Package libseccomp.x86_64 0:2.2.1-1.el7 will be installed\\n---> Package oci-register-machine.x86_64 1:0-1.8.gitaf6c129.el7 will be installed\\n---> Package oci-systemd-hook.x86_64 1:0.1.4-4.git41491a3.el7 will be installed\\n--> Processing Dependency: libyajl.so.2()(64bit) for package: 1:oci-systemd-hook-0.1.4-4.git41491a3.el7.x86_64\\n--> Running transaction check\\n---> Package policycoreutils-python.x86_64 0:2.2.5-20.el7 will be installed\\n--> Processing Dependency: libsemanage-python >= 2.1.10-1 for package: policycoreutils-python-2.2.5-20.el7.x86_64\\n--> Processing Dependency: audit-libs-python >= 2.1.3-4 for package: policycoreutils-python-2.2.5-20.el7.x86_64\\n--> Processing Dependency: python-IPy for package: policycoreutils-python-2.2.5-20.el7.x86_64\\n--> Processing Dependency: libqpol.so.1(VERS_1.4)(64bit) for package: policycoreutils-python-2.2.5-20.el7.x86_64\\n--> Processing Dependency: libqpol.so.1(VERS_1.2)(64bit) for package: policycoreutils-python-2.2.5-20.el7.x86_64\\n--> Processing Dependency: libcgroup for package: policycoreutils-python-2.2.5-20.el7.x86_64\\n--> Processing Dependency: libapol.so.4(VERS_4.0)(64bit) for package: policycoreutils-python-2.2.5-20.el7.x86_64\\n--> Processing Dependency: checkpolicy for package: policycoreutils-python-2.2.5-20.el7.x86_64\\n--> Processing Dependency: libqpol.so.1()(64bit) for package: policycoreutils-python-2.2.5-20.el7.x86_64\\n--> Processing Dependency: libapol.so.4()(64bit) for package: policycoreutils-python-2.2.5-20.el7.x86_64\\n---> Package yajl.x86_64 0:2.0.4-4.el7 will be installed\\n--> Running transaction check\\n---> Package audit-libs-python.x86_64 0:2.4.1-5.el7 will be installed\\n---> Package checkpolicy.x86_64 0:2.1.12-6.el7 will be installed\\n---> Package libcgroup.x86_64 0:0.41-8.el7 will be installed\\n---> Package libsemanage-python.x86_64 0:2.1.10-18.el7 will be installed\\n---> Package python-IPy.noarch 0:0.75-6.el7 will be installed\\n---> Package setools-libs.x86_64 0:3.3.7-46.el7 will be installed\\n--> Finished Dependency Resolution\\n\\nDependencies Resolved\\n\\n================================================================================\\n Package                  Arch     Version                       Repository\\n                                                                           Size\\n================================================================================\\nInstalling:\\n docker                   x86_64   1.10.3-46.el7.centos.14       extras   9.5 M\\nInstalling for dependencies:\\n audit-libs-python        x86_64   2.4.1-5.el7                   base      69 k\\n checkpolicy              x86_64   2.1.12-6.el7                  base     247 k\\n docker-common            x86_64   1.10.3-46.el7.centos.14       extras    61 k\\n docker-selinux           x86_64   1.10.3-46.el7.centos.14       extras    79 k\\n libcgroup                x86_64   0.41-8.el7                    base      64 k\\n libseccomp               x86_64   2.2.1-1.el7                   base      49 k\\n libsemanage-python       x86_64   2.1.10-18.el7                 base      94 k\\n oci-register-machine     x86_64   1:0-1.8.gitaf6c129.el7        extras   1.1 M\\n oci-systemd-hook         x86_64   1:0.1.4-4.git41491a3.el7      extras    27 k\\n policycoreutils-python   x86_64   2.2.5-20.el7                  base     435 k\\n python-IPy               noarch   0.75-6.el7                    base      32 k\\n setools-libs             x86_64   3.3.7-46.el7                  base     485 k\\n yajl                     x86_64   2.0.4-4.el7                   base      39 k\\n\\nTransaction Summary\\n================================================================================\\nInstall  1 Package (+13 Dependent packages)\\n\\nTotal download size: 12 M\\nInstalled size: 53 M\\nDownloading packages:\\n--------------------------------------------------------------------------------\\nTotal                                              5.6 MB/s |  12 MB  00:02     \\nRunning transaction check\\nRunning transaction test\\nTransaction test succeeded\\nRunning transaction\\n  Installing : libsemanage-python-2.1.10-18.el7.x86_64                     1/14 \\n  Installing : audit-libs-python-2.4.1-5.el7.x86_64                        2/14 \\n  Installing : yajl-2.0.4-4.el7.x86_64                                     3/14 \\n  Installing : 1:oci-systemd-hook-0.1.4-4.git41491a3.el7.x86_64            4/14 \\n  Installing : 1:oci-register-machine-0-1.8.gitaf6c129.el7.x86_64          5/14 \\n  Installing : libseccomp-2.2.1-1.el7.x86_64                               6/14 \\n  Installing : python-IPy-0.75-6.el7.noarch                                7/14 \\n  Installing : checkpolicy-2.1.12-6.el7.x86_64                             8/14 \\n  Installing : libcgroup-0.41-8.el7.x86_64                                 9/14 \\n  Installing : docker-common-1.10.3-46.el7.centos.14.x86_64               10/14 \\n  Installing : setools-libs-3.3.7-46.el7.x86_64                           11/14 \\n  Installing : policycoreutils-python-2.2.5-20.el7.x86_64                 12/14 \\n  Installing : docker-selinux-1.10.3-46.el7.centos.14.x86_64              13/14 \\n  Installing : docker-1.10.3-46.el7.centos.14.x86_64                      14/14 \\n  Verifying  : setools-libs-3.3.7-46.el7.x86_64                            1/14 \\n  Verifying  : docker-common-1.10.3-46.el7.centos.14.x86_64                2/14 \\n  Verifying  : docker-1.10.3-46.el7.centos.14.x86_64                       3/14 \\n  Verifying  : libcgroup-0.41-8.el7.x86_64                                 4/14 \\n  Verifying  : 1:oci-systemd-hook-0.1.4-4.git41491a3.el7.x86_64            5/14 \\n  Verifying  : checkpolicy-2.1.12-6.el7.x86_64                             6/14 \\n  Verifying  : python-IPy-0.75-6.el7.noarch                                7/14 \\n  Verifying  : libseccomp-2.2.1-1.el7.x86_64                               8/14 \\n  Verifying  : 1:oci-register-machine-0-1.8.gitaf6c129.el7.x86_64          9/14 \\n  Verifying  : docker-selinux-1.10.3-46.el7.centos.14.x86_64              10/14 \\n  Verifying  : yajl-2.0.4-4.el7.x86_64                                    11/14 \\n  Verifying  : audit-libs-python-2.4.1-5.el7.x86_64                       12/14 \\n  Verifying  : policycoreutils-python-2.2.5-20.el7.x86_64                 13/14 \\n  Verifying  : libsemanage-python-2.1.10-18.el7.x86_64                    14/14 \\n\\nInstalled:\\n  docker.x86_64 0:1.10.3-46.el7.centos.14                                       \\n\\nDependency Installed:\\n  audit-libs-python.x86_64 0:2.4.1-5.el7                                        \\n  checkpolicy.x86_64 0:2.1.12-6.el7                                             \\n  docker-common.x86_64 0:1.10.3-46.el7.centos.14                                \\n  docker-selinux.x86_64 0:1.10.3-46.el7.centos.14                               \\n  libcgroup.x86_64 0:0.41-8.el7                                                 \\n  libseccomp.x86_64 0:2.2.1-1.el7                                               \\n  libsemanage-python.x86_64 0:2.1.10-18.el7                                     \\n  oci-register-machine.x86_64 1:0-1.8.gitaf6c129.el7                            \\n  oci-systemd-hook.x86_64 1:0.1.4-4.git41491a3.el7                              \\n  policycoreutils-python.x86_64 0:2.2.5-20.el7                                  \\n  python-IPy.noarch 0:0.75-6.el7                                                \\n  setools-libs.x86_64 0:3.3.7-46.el7                                            \\n  yajl.x86_64 0:2.0.4-4.el7                                                     \\n\\nComplete!\\n\"]}\u001b[0m\r\n",
      "\u001b[0m\u001b[0m\r\n",
      "TASK [base : include_vars] *****************************************************\r\n",
      "\u001b[0m\u001b[0m\u001b[0;36mskipping: [node1] => {\"changed\": false, \"skip_reason\": \"Conditional check failed\", \"skipped\": true}\u001b[0m\r\n",
      "\u001b[0m\u001b[0m\r\n",
      "TASK [base : install mesos repository] *****************************************\r\n",
      "\u001b[0m\u001b[0m\u001b[0;36mskipping: [node1] => {\"changed\": false, \"skip_reason\": \"Conditional check failed\", \"skipped\": true}\u001b[0m\r\n",
      "\u001b[0m\u001b[0m\r\n",
      "TASK [base : Set IP address variables] *****************************************\r\n",
      "\u001b[0m\u001b[0m\u001b[0;32mok: [node1] => {\"ansible_facts\": {\"etcd_ip_address\": \"10.0.2.15\", \"kubemaster_ip_address\": \"10.0.2.15\"}, \"changed\": false}\u001b[0m\r\n",
      "\u001b[0m\u001b[0m\r\n",
      "PLAY [etcd] ********************************************************************\r\n",
      "\u001b[0m\u001b[0m\r\n",
      "TASK [setup] *******************************************************************\r\n",
      "\u001b[0m\u001b[0m\u001b[0;32mok: [node1]\u001b[0m\r\n",
      "\u001b[0m\u001b[0m\r\n",
      "TASK [etcd : install etcd] *****************************************************\r\n",
      "\u001b[0m\u001b[0m\u001b[0;33mchanged: [node1] => (item=[u'etcd']) => {\"changed\": true, \"item\": [\"etcd\"], \"msg\": \"\", \"rc\": 0, \"results\": [\"Loaded plugins: fastestmirror\\nLoading mirror speeds from cached hostfile\\n * base: miroir.univ-paris13.fr\\n * epel: epel.mirrors.ovh.net\\n * extras: centos.quelquesmots.fr\\n * updates: centos.quelquesmots.fr\\nResolving Dependencies\\n--> Running transaction check\\n---> Package etcd.x86_64 0:2.3.7-4.el7 will be installed\\n--> Finished Dependency Resolution\\n\\nDependencies Resolved\\n\\n================================================================================\\n Package        Arch             Version                 Repository        Size\\n================================================================================\\nInstalling:\\n etcd           x86_64           2.3.7-4.el7             extras           6.5 M\\n\\nTransaction Summary\\n================================================================================\\nInstall  1 Package\\n\\nTotal download size: 6.5 M\\nInstalled size: 31 M\\nDownloading packages:\\nRunning transaction check\\nRunning transaction test\\nTransaction test succeeded\\nRunning transaction\\n  Installing : etcd-2.3.7-4.el7.x86_64                                      1/1 \\n  Verifying  : etcd-2.3.7-4.el7.x86_64                                      1/1 \\n\\nInstalled:\\n  etcd.x86_64 0:2.3.7-4.el7                                                     \\n\\nComplete!\\n\"]}\u001b[0m\r\n",
      "\u001b[0m\u001b[0m\r\n",
      "TASK [etcd : configure etcd] ***************************************************\r\n",
      "\u001b[0m\u001b[0m\u001b[0;33mchanged: [node1] => (item=member ETCD_NAME default) => {\"changed\": true, \"cmd\": [\"crudini\", \"--set\", \"/etc/etcd/etcd.conf\", \"member\", \"ETCD_NAME\", \"default\"], \"delta\": \"0:00:00.028809\", \"end\": \"2016-10-31 10:51:07.259594\", \"item\": \"member ETCD_NAME default\", \"rc\": 0, \"start\": \"2016-10-31 10:51:07.230785\", \"stderr\": \"\", \"stdout\": \"\", \"stdout_lines\": [], \"warnings\": []}\u001b[0m\r\n",
      "\u001b[0m\u001b[0m\u001b[0;33mchanged: [node1] => (item=member ETCD_DATA_DIR /var/lib/etcd/default.etcd) => {\"changed\": true, \"cmd\": [\"crudini\", \"--set\", \"/etc/etcd/etcd.conf\", \"member\", \"ETCD_DATA_DIR\", \"/var/lib/etcd/default.etcd\"], \"delta\": \"0:00:00.028142\", \"end\": \"2016-10-31 10:51:07.476822\", \"item\": \"member ETCD_DATA_DIR /var/lib/etcd/default.etcd\", \"rc\": 0, \"start\": \"2016-10-31 10:51:07.448680\", \"stderr\": \"\", \"stdout\": \"\", \"stdout_lines\": [], \"warnings\": []}\u001b[0m\r\n",
      "\u001b[0m\u001b[0m\u001b[0;33mchanged: [node1] => (item=member ETCD_LISTEN_CLIENT_URLS http://0.0.0.0:2379) => {\"changed\": true, \"cmd\": [\"crudini\", \"--set\", \"/etc/etcd/etcd.conf\", \"member\", \"ETCD_LISTEN_CLIENT_URLS\", \"http://0.0.0.0:2379\"], \"delta\": \"0:00:00.028178\", \"end\": \"2016-10-31 10:51:07.687873\", \"item\": \"member ETCD_LISTEN_CLIENT_URLS http://0.0.0.0:2379\", \"rc\": 0, \"start\": \"2016-10-31 10:51:07.659695\", \"stderr\": \"\", \"stdout\": \"\", \"stdout_lines\": [], \"warnings\": []}\u001b[0m\r\n",
      "\u001b[0m\u001b[0m\u001b[0;33mchanged: [node1] => (item=cluster ETCD_ADVERTISE_CLIENT_URLS http://0.0.0.0:2379) => {\"changed\": true, \"cmd\": [\"crudini\", \"--set\", \"/etc/etcd/etcd.conf\", \"cluster\", \"ETCD_ADVERTISE_CLIENT_URLS\", \"http://0.0.0.0:2379\"], \"delta\": \"0:00:00.028322\", \"end\": \"2016-10-31 10:51:07.901940\", \"item\": \"cluster ETCD_ADVERTISE_CLIENT_URLS http://0.0.0.0:2379\", \"rc\": 0, \"start\": \"2016-10-31 10:51:07.873618\", \"stderr\": \"\", \"stdout\": \"\", \"stdout_lines\": [], \"warnings\": []}\u001b[0m\r\n",
      "\u001b[0m\u001b[0m\r\n",
      "TASK [etcd : start etcd] *******************************************************\r\n",
      "\u001b[0m\u001b[0m\u001b[0;33mchanged: [node1] => {\"changed\": true, \"name\": \"etcd\", \"state\": \"started\"}\u001b[0m\r\n",
      "\u001b[0m\u001b[0m\r\n",
      "TASK [etcd : wait etcd to start] ***********************************************\r\n",
      "\u001b[0m\u001b[0m\u001b[0;32mok: [node1] => {\"changed\": false, \"elapsed\": 10, \"path\": null, \"port\": 2379, \"search_regex\": null, \"state\": \"started\"}\u001b[0m\r\n",
      "\u001b[0m\u001b[0m\r\n",
      "TASK [etcd : clean flannel configuration] **************************************\r\n",
      "\u001b[0m\u001b[0m\u001b[0;33mchanged: [node1] => {\"changed\": true, \"cmd\": \"etcdctl rm /atomic.io/network/config ||:\", \"delta\": \"0:00:00.012862\", \"end\": \"2016-10-31 10:51:18.702529\", \"rc\": 0, \"start\": \"2016-10-31 10:51:18.689667\", \"stderr\": \"Error:  100: Key not found (/atomic.io) [3]\", \"stdout\": \"\", \"stdout_lines\": [], \"warnings\": []}\u001b[0m\r\n",
      "\u001b[0m\u001b[0m\r\n",
      "TASK [etcd : configure flannel network] ****************************************\r\n",
      "\u001b[0m\u001b[0m\u001b[0;33mchanged: [node1] => {\"changed\": true, \"cmd\": [\"etcdctl\", \"mk\", \"/atomic.io/network/config\", \"{\\\"Network\\\":\\\"172.17.0.0/16\\\"}\"], \"delta\": \"0:00:00.010895\", \"end\": \"2016-10-31 10:51:18.918713\", \"rc\": 0, \"start\": \"2016-10-31 10:51:18.907818\", \"stderr\": \"\", \"stdout\": \"{\\\"Network\\\":\\\"172.17.0.0/16\\\"}\", \"stdout_lines\": [\"{\\\"Network\\\":\\\"172.17.0.0/16\\\"}\"], \"warnings\": []}\u001b[0m\r\n",
      "\u001b[0m\u001b[0m\r\n",
      "RUNNING HANDLER [etcd : restart etcd] ******************************************\r\n",
      "\u001b[0m\u001b[0m\u001b[0;33mchanged: [node1] => {\"changed\": true, \"name\": \"etcd\", \"state\": \"started\"}\u001b[0m\r\n",
      "\u001b[0m\u001b[0m\r\n",
      "PLAY [all] *********************************************************************\r\n",
      "\u001b[0m\u001b[0m\r\n",
      "TASK [setup] *******************************************************************\r\n",
      "\u001b[0m\u001b[0m\u001b[0;32mok: [node1]\u001b[0m\r\n",
      "\u001b[0m\u001b[0m\r\n",
      "TASK [flannel : install flannel] ***********************************************\r\n",
      "\u001b[0m\u001b[0m\u001b[0;33mchanged: [node1] => (item=[u'flannel']) => {\"changed\": true, \"item\": [\"flannel\"], \"msg\": \"\", \"rc\": 0, \"results\": [\"Loaded plugins: fastestmirror\\nLoading mirror speeds from cached hostfile\\n * base: miroir.univ-paris13.fr\\n * epel: mirror.ibcp.fr\\n * extras: centos.quelquesmots.fr\\n * updates: centos.quelquesmots.fr\\nResolving Dependencies\\n--> Running transaction check\\n---> Package flannel.x86_64 0:0.5.3-9.el7 will be installed\\n--> Finished Dependency Resolution\\n\\nDependencies Resolved\\n\\n================================================================================\\n Package          Arch            Version                 Repository       Size\\n================================================================================\\nInstalling:\\n flannel          x86_64          0.5.3-9.el7             extras          1.7 M\\n\\nTransaction Summary\\n================================================================================\\nInstall  1 Package\\n\\nTotal download size: 1.7 M\\nInstalled size: 7.5 M\\nDownloading packages:\\nRunning transaction check\\nRunning transaction test\\nTransaction test succeeded\\nRunning transaction\\n  Installing : flannel-0.5.3-9.el7.x86_64                                   1/1 \\n  Verifying  : flannel-0.5.3-9.el7.x86_64                                   1/1 \\n\\nInstalled:\\n  flannel.x86_64 0:0.5.3-9.el7                                                  \\n\\nComplete!\\n\"]}\u001b[0m\r\n",
      "\u001b[0m\u001b[0m\r\n",
      "TASK [flannel : configure flanneld] ********************************************\r\n",
      "\u001b[0m\u001b[0m\u001b[0;33mchanged: [node1] => {\"changed\": true, \"checksum\": \"4afd1bcb305942f6aa0250a92e33b14f03e7343c\", \"dest\": \"/etc/sysconfig/flanneld\", \"gid\": 0, \"group\": \"root\", \"md5sum\": \"4b55c7b039a09c5febecc88af00da158\", \"mode\": \"0644\", \"owner\": \"root\", \"secontext\": \"system_u:object_r:etc_t:s0\", \"size\": 347, \"src\": \"/home/vagrant/.ansible/tmp/ansible-tmp-1477911083.44-85044740443843/source\", \"state\": \"file\", \"uid\": 0}\u001b[0m\r\n",
      "\u001b[0m\u001b[0m\r\n",
      "TASK [flannel : start flanneld] ************************************************\r\n",
      "\u001b[0m\u001b[0m\u001b[0;33mchanged: [node1] => {\"changed\": true, \"name\": \"flanneld\", \"state\": \"started\"}\u001b[0m\r\n",
      "\u001b[0m\u001b[0m\r\n",
      "PLAY [kubemaster] **************************************************************\r\n",
      "\u001b[0m\u001b[0m\r\n",
      "TASK [setup] *******************************************************************\r\n",
      "\u001b[0m\u001b[0m\u001b[0;32mok: [node1]\u001b[0m\r\n",
      "\u001b[0m\u001b[0m\r\n",
      "TASK [kubernetes-master : install kubernetes master] ***************************\r\n",
      "\u001b[0m\u001b[0m\u001b[0;33mchanged: [node1] => (item=[u'kubernetes', u'flannel']) => {\"changed\": true, \"item\": [\"kubernetes\", \"flannel\"], \"msg\": \"\", \"rc\": 0, \"results\": [\"flannel-0.5.3-9.el7.x86_64 providing flannel is already installed\", \"Loaded plugins: fastestmirror\\nLoading mirror speeds from cached hostfile\\n * base: miroir.univ-paris13.fr\\n * epel: mirror.ibcp.fr\\n * extras: centos.quelquesmots.fr\\n * updates: centos.quelquesmots.fr\\nResolving Dependencies\\n--> Running transaction check\\n---> Package kubernetes.x86_64 0:1.2.0-0.13.gitec7364b.el7 will be installed\\n--> Processing Dependency: kubernetes-node = 1.2.0-0.13.gitec7364b.el7 for package: kubernetes-1.2.0-0.13.gitec7364b.el7.x86_64\\n--> Processing Dependency: kubernetes-master = 1.2.0-0.13.gitec7364b.el7 for package: kubernetes-1.2.0-0.13.gitec7364b.el7.x86_64\\n--> Running transaction check\\n---> Package kubernetes-master.x86_64 0:1.2.0-0.13.gitec7364b.el7 will be installed\\n--> Processing Dependency: kubernetes-client = 1.2.0-0.13.gitec7364b.el7 for package: kubernetes-master-1.2.0-0.13.gitec7364b.el7.x86_64\\n---> Package kubernetes-node.x86_64 0:1.2.0-0.13.gitec7364b.el7 will be installed\\n--> Processing Dependency: socat for package: kubernetes-node-1.2.0-0.13.gitec7364b.el7.x86_64\\n--> Running transaction check\\n---> Package kubernetes-client.x86_64 0:1.2.0-0.13.gitec7364b.el7 will be installed\\n---> Package socat.x86_64 0:1.7.2.2-5.el7 will be installed\\n--> Finished Dependency Resolution\\n\\nDependencies Resolved\\n\\n================================================================================\\n Package              Arch      Version                         Repository\\n                                                                           Size\\n================================================================================\\nInstalling:\\n kubernetes           x86_64    1.2.0-0.13.gitec7364b.el7       extras     35 k\\nInstalling for dependencies:\\n kubernetes-client    x86_64    1.2.0-0.13.gitec7364b.el7       extras    9.7 M\\n kubernetes-master    x86_64    1.2.0-0.13.gitec7364b.el7       extras     17 M\\n kubernetes-node      x86_64    1.2.0-0.13.gitec7364b.el7       extras    9.6 M\\n socat                x86_64    1.7.2.2-5.el7                   base      255 k\\n\\nTransaction Summary\\n================================================================================\\nInstall  1 Package (+4 Dependent packages)\\n\\nTotal download size: 36 M\\nInstalled size: 177 M\\nDownloading packages:\\n--------------------------------------------------------------------------------\\nTotal                                              8.0 MB/s |  36 MB  00:04     \\nRunning transaction check\\nRunning transaction test\\nTransaction test succeeded\\nRunning transaction\\n  Installing : kubernetes-client-1.2.0-0.13.gitec7364b.el7.x86_64           1/5 \\n  Installing : kubernetes-master-1.2.0-0.13.gitec7364b.el7.x86_64           2/5 \\n  Installing : socat-1.7.2.2-5.el7.x86_64                                   3/5 \\n  Installing : kubernetes-node-1.2.0-0.13.gitec7364b.el7.x86_64             4/5 \\n  Installing : kubernetes-1.2.0-0.13.gitec7364b.el7.x86_64                  5/5 \\n  Verifying  : kubernetes-master-1.2.0-0.13.gitec7364b.el7.x86_64           1/5 \\n  Verifying  : kubernetes-node-1.2.0-0.13.gitec7364b.el7.x86_64             2/5 \\n  Verifying  : kubernetes-client-1.2.0-0.13.gitec7364b.el7.x86_64           3/5 \\n  Verifying  : kubernetes-1.2.0-0.13.gitec7364b.el7.x86_64                  4/5 \\n  Verifying  : socat-1.7.2.2-5.el7.x86_64                                   5/5 \\n\\nInstalled:\\n  kubernetes.x86_64 0:1.2.0-0.13.gitec7364b.el7                                 \\n\\nDependency Installed:\\n  kubernetes-client.x86_64 0:1.2.0-0.13.gitec7364b.el7                          \\n  kubernetes-master.x86_64 0:1.2.0-0.13.gitec7364b.el7                          \\n  kubernetes-node.x86_64 0:1.2.0-0.13.gitec7364b.el7                            \\n  socat.x86_64 0:1.7.2.2-5.el7                                                  \\n\\nComplete!\\n\"]}\u001b[0m\r\n",
      "\u001b[0m\u001b[0m\r\n",
      "TASK [kubernetes-master : configure kubernetes] ********************************\r\n",
      "\u001b[0m\u001b[0m\u001b[0;33mchanged: [node1] => {\"changed\": true, \"checksum\": \"bec368e3bb8d2f05a8412b6b159962e64ee2bb36\", \"dest\": \"/etc/kubernetes/config\", \"gid\": 0, \"group\": \"root\", \"md5sum\": \"046727bb8755cbb39afb69822c3ae2de\", \"mode\": \"0644\", \"owner\": \"root\", \"secontext\": \"system_u:object_r:etc_t:s0\", \"size\": 655, \"src\": \"/home/vagrant/.ansible/tmp/ansible-tmp-1477911096.26-189619640482568/source\", \"state\": \"file\", \"uid\": 0}\u001b[0m\r\n",
      "\u001b[0m\u001b[0m\r\n",
      "TASK [kubernetes-master : configure kube-apiserver] ****************************\r\n",
      "\u001b[0m\u001b[0m\u001b[0;33mchanged: [node1] => {\"changed\": true, \"checksum\": \"b67374b7b17cd406e3c41e2ff820e68088f679bb\", \"dest\": \"/etc/kubernetes/apiserver\", \"gid\": 0, \"group\": \"root\", \"md5sum\": \"2add5424a74e664479a159ee2f7bca9f\", \"mode\": \"0644\", \"owner\": \"root\", \"secontext\": \"system_u:object_r:etc_t:s0\", \"size\": 730, \"src\": \"/home/vagrant/.ansible/tmp/ansible-tmp-1477911096.69-30079728723120/source\", \"state\": \"file\", \"uid\": 0}\u001b[0m\r\n",
      "\u001b[0m\u001b[0m\r\n",
      "TASK [kubernetes-master : start kubernetes master services] ********************\r\n",
      "\u001b[0m\u001b[0m\u001b[0;33mchanged: [node1] => (item=kube-apiserver) => {\"changed\": true, \"enabled\": true, \"item\": \"kube-apiserver\", \"name\": \"kube-apiserver\", \"state\": \"started\"}\u001b[0m\r\n",
      "\u001b[0m\u001b[0m\u001b[0;33mchanged: [node1] => (item=kube-controller-manager) => {\"changed\": true, \"enabled\": true, \"item\": \"kube-controller-manager\", \"name\": \"kube-controller-manager\", \"state\": \"started\"}\u001b[0m\r\n",
      "\u001b[0m\u001b[0m\u001b[0;33mchanged: [node1] => (item=kube-scheduler) => {\"changed\": true, \"enabled\": true, \"item\": \"kube-scheduler\", \"name\": \"kube-scheduler\", \"state\": \"started\"}\u001b[0m\r\n",
      "\u001b[0m\u001b[0m\r\n",
      "TASK [kubernetes-master : wait k8s apiserver to start] *************************\r\n",
      "\u001b[0m\u001b[0m\u001b[0;32mok: [node1] => {\"changed\": false, \"elapsed\": 10, \"path\": null, \"port\": 8080, \"search_regex\": null, \"state\": \"started\"}\u001b[0m\r\n",
      "\u001b[0m\u001b[0m\r\n",
      "PLAY [kubeminions] *************************************************************\r\n",
      "\u001b[0m\u001b[0m\r\n",
      "TASK [setup] *******************************************************************\r\n",
      "\u001b[0m\u001b[0m\u001b[0;32mok: [node1]\u001b[0m\r\n",
      "\u001b[0m\u001b[0m\r\n",
      "TASK [kubernetes-minion : install kubernetes minion] ***************************\r\n",
      "\u001b[0m\u001b[0m\u001b[0;32mok: [node1] => (item=[u'kubernetes-node']) => {\"changed\": false, \"item\": [\"kubernetes-node\"], \"msg\": \"\", \"rc\": 0, \"results\": [\"kubernetes-node-1.2.0-0.13.gitec7364b.el7.x86_64 providing kubernetes-node is already installed\"]}\u001b[0m\r\n",
      "\u001b[0m\u001b[0m\r\n",
      "TASK [kubernetes-minion : configure base kubernetes] ***************************\r\n",
      "\u001b[0m\u001b[0m\u001b[0;32mok: [node1] => {\"changed\": false, \"gid\": 0, \"group\": \"root\", \"mode\": \"0644\", \"owner\": \"root\", \"path\": \"/etc/kubernetes/config\", \"secontext\": \"system_u:object_r:etc_t:s0\", \"size\": 655, \"state\": \"file\", \"uid\": 0}\u001b[0m\r\n",
      "\u001b[0m\u001b[0m\r\n",
      "TASK [kubernetes-minion : configure kubelet] ***********************************\r\n",
      "\u001b[0m\u001b[0m\u001b[0;33mchanged: [node1] => {\"changed\": true, \"checksum\": \"bc0c8ded6da1921b8d80f8419084d6a515b0fa54\", \"dest\": \"/etc/kubernetes/kubelet\", \"gid\": 0, \"group\": \"root\", \"md5sum\": \"71cb00d8be06064f37dfb460b60e0317\", \"mode\": \"0644\", \"owner\": \"root\", \"secontext\": \"system_u:object_r:etc_t:s0\", \"size\": 584, \"src\": \"/home/vagrant/.ansible/tmp/ansible-tmp-1477911109.73-188914707995522/source\", \"state\": \"file\", \"uid\": 0}\u001b[0m\r\n",
      "\u001b[0m\u001b[0m\r\n",
      "TASK [kubernetes-minion : start kubernetes minion services] ********************\r\n",
      "\u001b[0m\u001b[0m\u001b[0;33mchanged: [node1] => (item=kube-proxy) => {\"changed\": true, \"enabled\": true, \"item\": \"kube-proxy\", \"name\": \"kube-proxy\", \"state\": \"started\"}\u001b[0m\r\n",
      "\u001b[0m\u001b[0m\u001b[0;33mchanged: [node1] => (item=kubelet) => {\"changed\": true, \"enabled\": true, \"item\": \"kubelet\", \"name\": \"kubelet\", \"state\": \"started\"}\u001b[0m\r\n",
      "\u001b[0m\u001b[0m\u001b[0;33mchanged: [node1] => (item=docker) => {\"changed\": true, \"enabled\": true, \"item\": \"docker\", \"name\": \"docker\", \"state\": \"started\"}\u001b[0m\r\n",
      "\u001b[0m\u001b[0m\r\n",
      "PLAY RECAP *********************************************************************\r\n",
      "\u001b[0m\u001b[0m\u001b[0;33mnode1\u001b[0m                      : \u001b[0;32mok\u001b[0m\u001b[0;32m=\u001b[0m\u001b[0;32m34\u001b[0m   \u001b[0;33mchanged\u001b[0m\u001b[0;33m=\u001b[0m\u001b[0;33m22\u001b[0m   unreachable=0    failed=0   \r\n",
      "\r\n",
      "\u001b[0m"
     ]
    }
   ],
   "source": [
    "vagrant up"
   ]
  },
  {
   "cell_type": "markdown",
   "metadata": {},
   "source": [
    "Let's use\n",
    "\n",
    "```shell\n",
    "vagrant status\n",
    "```\n",
    "to show the status of the virtual machine"
   ]
  },
  {
   "cell_type": "code",
   "execution_count": 8,
   "metadata": {
    "collapsed": false
   },
   "outputs": [
    {
     "name": "stdout",
     "output_type": "stream",
     "text": [
      "\u001b[0mCurrent machine states:\r\n",
      "\r\n",
      "node1                     running (virtualbox)\r\n",
      "\r\n",
      "The VM is running. To stop this VM, you can run `vagrant halt` to\r\n",
      "shut it down forcefully, or you can run `vagrant suspend` to simply\r\n",
      "suspend the virtual machine. In either case, to restart it again,\r\n",
      "simply run `vagrant up`.\u001b[0m\r\n"
     ]
    }
   ],
   "source": [
    "vagrant status"
   ]
  },
  {
   "cell_type": "markdown",
   "metadata": {},
   "source": [
    "We can now use the\n",
    "\n",
    "```shell\n",
    "vagrant ssh\n",
    "```\n",
    "command to connect to that node, as an interactive session, to to run a specific command as below:"
   ]
  },
  {
   "cell_type": "code",
   "execution_count": 9,
   "metadata": {
    "collapsed": false
   },
   "outputs": [
    {
     "name": "stdout",
     "output_type": "stream",
     "text": [
      "total 16\r\n",
      "drwxrwxrwt.  7 root root 4096 Oct 31 10:54 .\r\n",
      "dr-xr-xr-x. 18 root root 4096 Oct 31 10:50 ..\r\n",
      "drwxrwxrwt.  2 root root    6 Oct  3 13:39 .font-unix\r\n",
      "drwxrwxrwt.  2 root root    6 Oct  3 13:39 .ICE-unix\r\n",
      "-rwx------.  1 root root 2326 Oct  3 13:48 ks-script-nDh093\r\n",
      "-rwx------.  1 root root  827 Oct  3 13:49 ks-script-SstNaF\r\n",
      "drwxrwxrwt.  2 root root    6 Oct  3 13:39 .Test-unix\r\n",
      "drwxrwxrwt.  2 root root    6 Oct  3 13:39 .X11-unix\r\n",
      "drwxrwxrwt.  2 root root    6 Oct  3 13:39 .XIM-unix\r\n",
      "-rw-------.  1 root root    0 Oct  3 13:34 yum.log\r\n",
      "Connection to 127.0.0.1 closed.\r",
      "\r\n"
     ]
    }
   ],
   "source": [
    "vagrant ssh node1 -c \"ls -al /tmp/\" "
   ]
  },
  {
   "cell_type": "markdown",
   "metadata": {},
   "source": [
    "On your master host, check out the kubernetes git repository, and change into the guestbook directory:\n",
    "\n",
    "**Connect to the virtual machine using**\n",
    "vagrant ssh node1\n",
    "\n",
    "\n",
    "The following commands are all to be run within the virtual machine\n",
    "\n",
    "Note: This lab was run with revision ddce7c305aca9c99bfd448c978da48169109bf93\n",
    "\n",
    "you can check it out using:\n",
    "\n",
    "git checkout ddce7c305aca9c99bfd448c978da48169109bf93\n",
    "\n",
    "**NOTE**: All commands below should be run from within an ssh session on the node1 created using\n",
    "```bash\n",
    "vagrant ssh node1\n",
    "```\n",
    "\n",
    "No need to precede each command by ```bash vagrant ssh node1 -c '<cmd>'``` as done below (only necessary in this notebook format)"
   ]
  },
  {
   "cell_type": "markdown",
   "metadata": {},
   "source": [
    "#### Running the Guestbook example\n",
    "\n",
    "The following is all taken from\n",
    "\n",
    "https://github.com/kubernetes/kubernetes/tree/master/examples/guestbook\n",
    "\n",
    "and this specific revision at:\n",
    "https://github.com/kubernetes/kubernetes/tree/ddce7c305aca9c99bfd448c978da48169109bf93/examples/guestbook\n"
   ]
  },
  {
   "cell_type": "code",
   "execution_count": 10,
   "metadata": {
    "collapsed": false
   },
   "outputs": [
    {
     "name": "stdout",
     "output_type": "stream",
     "text": [
      "Cloning into 'kubernetes'...\r\n",
      "remote: Counting objects: 367219   \u001b[K\r",
      "remote: Counting objects: 367224, done.\u001b[K\r\n",
      "remote: Compressing objects:  20% (1/5)   \u001b[K\r",
      "remote: Compressing objects:  40% (2/5)   \u001b[K\r",
      "remote: Compressing objects:  60% (3/5)   \u001b[K\r",
      "remote: Compressing objects:  80% (4/5)   \u001b[K\r",
      "remote: Compressing objects: 100% (5/5)   \u001b[K\r",
      "remote: Compressing objects: 100% (5/5), done.\u001b[K\r\n",
      "Receiving objects:   0% (1/367224)   \r",
      "Receiving objects:   1% (3673/367224), 780.01 KiB | 1.46 MiB/s   \r",
      "Receiving objects:   1% (6565/367224), 2.11 MiB | 2.05 MiB/s   \r",
      "Receiving objects:   2% (7345/367224), 2.11 MiB | 2.05 MiB/s   \r",
      "Receiving objects:   3% (11017/367224), 3.19 MiB | 2.09 MiB/s   \r",
      "Receiving objects:   3% (14447/367224), 3.19 MiB | 2.09 MiB/s   \r",
      "Receiving objects:   4% (14689/367224), 3.19 MiB | 2.09 MiB/s   \r",
      "Receiving objects:   5% (18362/367224), 4.28 MiB | 2.11 MiB/s   \r",
      "Receiving objects:   6% (22034/367224), 5.43 MiB | 2.14 MiB/s   \r",
      "Receiving objects:   6% (25161/367224), 5.43 MiB | 2.14 MiB/s   \r",
      "Receiving objects:   7% (25706/367224), 5.43 MiB | 2.14 MiB/s   \r",
      "Receiving objects:   8% (29378/367224), 6.64 MiB | 2.18 MiB/s   \r",
      "Receiving objects:   9% (33051/367224), 7.88 MiB | 2.21 MiB/s   \r",
      "Receiving objects:   9% (36571/367224), 7.88 MiB | 2.21 MiB/s   \r",
      "Receiving objects:  10% (36723/367224), 7.88 MiB | 2.21 MiB/s   \r",
      "Receiving objects:  11% (40395/367224), 9.06 MiB | 2.23 MiB/s   \r",
      "Receiving objects:  11% (43689/367224), 10.32 MiB | 2.26 MiB/s   \r",
      "Receiving objects:  11% (44058/367224), 12.71 MiB | 2.33 MiB/s   \r",
      "Receiving objects:  12% (44067/367224), 13.96 MiB | 2.36 MiB/s   \r",
      "Receiving objects:  12% (45846/367224), 15.18 MiB | 2.39 MiB/s   \r",
      "Receiving objects:  12% (47517/367224), 17.66 MiB | 2.42 MiB/s   \r",
      "Receiving objects:  13% (47740/367224), 18.93 MiB | 2.43 MiB/s   \r",
      "Receiving objects:  13% (49826/367224), 20.24 MiB | 2.46 MiB/s   \r",
      "Receiving objects:  14% (51412/367224), 21.62 MiB | 2.49 MiB/s   \r",
      "Receiving objects:  14% (53430/367224), 23.04 MiB | 2.54 MiB/s   \r",
      "Receiving objects:  15% (55084/367224), 26.20 MiB | 2.71 MiB/s   \r",
      "Receiving objects:  15% (56326/367224), 26.20 MiB | 2.71 MiB/s   \r",
      "Receiving objects:  16% (58756/367224), 29.96 MiB | 3.00 MiB/s   \r",
      "Receiving objects:  16% (59325/367224), 29.96 MiB | 3.00 MiB/s   \r",
      "Receiving objects:  17% (62429/367224), 34.39 MiB | 3.42 MiB/s   \r",
      "Receiving objects:  17% (63259/367224), 34.39 MiB | 3.42 MiB/s   \r",
      "Receiving objects:  18% (66101/367224), 39.82 MiB | 4.02 MiB/s   \r",
      "Receiving objects:  18% (67059/367224), 39.82 MiB | 4.02 MiB/s   \r",
      "Receiving objects:  19% (69773/367224), 42.89 MiB | 4.39 MiB/s   \r",
      "Receiving objects:  19% (71394/367224), 46.49 MiB | 4.84 MiB/s   \r",
      "Receiving objects:  20% (73445/367224), 50.44 MiB | 5.36 MiB/s   \r",
      "Receiving objects:  21% (77118/367224), 54.78 MiB | 5.93 MiB/s   \r",
      "Receiving objects:  21% (79705/367224), 54.78 MiB | 5.93 MiB/s   \r",
      "Receiving objects:  22% (80790/367224), 54.78 MiB | 5.93 MiB/s   \r",
      "Receiving objects:  23% (84462/367224), 58.64 MiB | 6.35 MiB/s   \r",
      "Receiving objects:  23% (85212/367224), 65.98 MiB | 7.00 MiB/s   \r",
      "Receiving objects:  23% (85224/367224), 72.64 MiB | 7.13 MiB/s   \r",
      "Receiving objects:  24% (88134/367224), 75.34 MiB | 7.05 MiB/s   \r",
      "Receiving objects:  24% (88474/367224), 75.34 MiB | 7.05 MiB/s   \r",
      "Receiving objects:  25% (91806/367224), 77.59 MiB | 6.76 MiB/s   \r",
      "Receiving objects:  25% (93558/367224), 79.96 MiB | 6.42 MiB/s   \r",
      "Receiving objects:  26% (95479/367224), 82.34 MiB | 5.99 MiB/s   \r",
      "Receiving objects:  27% (99151/367224), 84.40 MiB | 5.47 MiB/s   \r",
      "Receiving objects:  27% (99455/367224), 84.40 MiB | 5.47 MiB/s   \r",
      "Receiving objects:  28% (102823/367224), 86.98 MiB | 5.26 MiB/s   \r",
      "Receiving objects:  28% (103709/367224), 88.88 MiB | 4.86 MiB/s   \r",
      "Receiving objects:  29% (106495/367224), 90.82 MiB | 4.46 MiB/s   \r",
      "Receiving objects:  29% (107543/367224), 92.90 MiB | 4.37 MiB/s   \r",
      "Receiving objects:  30% (110168/367224), 94.93 MiB | 4.22 MiB/s   \r",
      "Receiving objects:  30% (111887/367224), 97.00 MiB | 4.18 MiB/s   \r",
      "Receiving objects:  31% (113840/367224), 97.00 MiB | 4.18 MiB/s   \r",
      "Receiving objects:  31% (117164/367224), 101.19 MiB | 4.05 MiB/s   \r",
      "Receiving objects:  32% (117512/367224), 101.19 MiB | 4.05 MiB/s   \r",
      "Receiving objects:  32% (119808/367224), 105.44 MiB | 4.06 MiB/s   \r",
      "Receiving objects:  33% (121184/367224), 105.44 MiB | 4.06 MiB/s   \r",
      "Receiving objects:  33% (122844/367224), 109.04 MiB | 4.01 MiB/s   \r",
      "Receiving objects:  33% (124082/367224), 112.78 MiB | 3.47 MiB/s   \r",
      "Receiving objects:  33% (124084/367224), 114.11 MiB | 3.28 MiB/s   \r",
      "Receiving objects:  34% (124857/367224), 115.57 MiB | 3.16 MiB/s   \r",
      "Receiving objects:  34% (125907/367224), 116.94 MiB | 2.99 MiB/s   \r",
      "Receiving objects:  34% (125946/367224), 121.21 MiB | 2.67 MiB/s   \r",
      "Receiving objects:  34% (127615/367224), 122.61 MiB | 2.74 MiB/s   \r",
      "Receiving objects:  35% (128529/367224), 122.61 MiB | 2.74 MiB/s   \r",
      "Receiving objects:  35% (131884/367224), 125.43 MiB | 2.79 MiB/s   \r",
      "Receiving objects:  36% (132201/367224), 125.43 MiB | 2.79 MiB/s   \r",
      "Receiving objects:  36% (135774/367224), 128.39 MiB | 2.82 MiB/s   \r",
      "Receiving objects:  37% (135873/367224), 128.39 MiB | 2.82 MiB/s   \r",
      "Receiving objects:  37% (139184/367224), 131.35 MiB | 2.86 MiB/s   \r",
      "Receiving objects:  38% (139546/367224), 131.35 MiB | 2.86 MiB/s   \r",
      "Receiving objects:  38% (142362/367224), 134.51 MiB | 2.93 MiB/s   \r",
      "Receiving objects:  39% (143218/367224), 134.51 MiB | 2.93 MiB/s   \r",
      "Receiving objects:  39% (145072/367224), 138.14 MiB | 3.10 MiB/s   \r",
      "Receiving objects:  40% (146890/367224), 140.03 MiB | 3.22 MiB/s   \r",
      "Receiving objects:  40% (148698/367224), 142.24 MiB | 3.39 MiB/s   \r",
      "Receiving objects:  41% (150562/367224), 142.24 MiB | 3.39 MiB/s   \r",
      "Receiving objects:  42% (154235/367224), 144.41 MiB | 3.54 MiB/s   \r",
      "Receiving objects:  43% (157907/367224), 144.41 MiB | 3.54 MiB/s   \r",
      "Receiving objects:  43% (159813/367224), 146.94 MiB | 3.78 MiB/s   \r",
      "Receiving objects:  44% (161579/367224), 146.94 MiB | 3.78 MiB/s   \r",
      "Receiving objects:  45% (165251/367224), 146.94 MiB | 3.78 MiB/s   \r",
      "Receiving objects:  46% (168924/367224), 149.60 MiB | 4.03 MiB/s   \r",
      "Receiving objects:  46% (171768/367224), 149.60 MiB | 4.03 MiB/s   \r",
      "Receiving objects:  47% (172596/367224), 151.84 MiB | 4.16 MiB/s   \r",
      "Receiving objects:  48% (176268/367224), 151.84 MiB | 4.16 MiB/s   \r",
      "Receiving objects:  48% (177403/367224), 156.43 MiB | 4.45 MiB/s   \r",
      "Receiving objects:  48% (177403/367224), 161.54 MiB | 4.76 MiB/s   \r",
      "Receiving objects:  48% (177403/367224), 165.78 MiB | 4.73 MiB/s   \r",
      "Receiving objects:  49% (179940/367224), 165.78 MiB | 4.73 MiB/s   \r",
      "Receiving objects:  49% (181579/367224), 170.03 MiB | 4.52 MiB/s   \r",
      "Receiving objects:  49% (181579/367224), 174.43 MiB | 4.50 MiB/s   \r",
      "Receiving objects:  49% (181579/367224), 178.93 MiB | 4.42 MiB/s   \r",
      "Receiving objects:  49% (181579/367224), 183.50 MiB | 4.35 MiB/s   \r",
      "Receiving objects:  50% (183612/367224), 185.84 MiB | 4.43 MiB/s   \r",
      "Receiving objects:  50% (184426/367224), 188.12 MiB | 4.48 MiB/s   \r",
      "Receiving objects:  51% (187285/367224), 190.41 MiB | 4.50 MiB/s   \r",
      "Receiving objects:  51% (188438/367224), 190.41 MiB | 4.50 MiB/s   \r",
      "Receiving objects:  52% (190957/367224), 192.69 MiB | 4.53 MiB/s   \r",
      "Receiving objects:  52% (193697/367224), 197.29 MiB | 4.55 MiB/s   \r",
      "Receiving objects:  52% (193697/367224), 202.00 MiB | 4.58 MiB/s   \r",
      "Receiving objects:  52% (193697/367224), 206.97 MiB | 4.68 MiB/s   \r",
      "Receiving objects:  53% (194629/367224), 209.29 MiB | 4.69 MiB/s   \r",
      "Receiving objects:  53% (197190/367224), 209.29 MiB | 4.69 MiB/s   \r",
      "Receiving objects:  54% (198301/367224), 211.23 MiB | 4.61 MiB/s   \r",
      "Receiving objects:  55% (201974/367224), 213.32 MiB | 4.57 MiB/s   \r",
      "Receiving objects:  55% (205382/367224), 213.32 MiB | 4.57 MiB/s   \r",
      "Receiving objects:  56% (205646/367224), 213.32 MiB | 4.57 MiB/s   \r",
      "Receiving objects:  57% (209318/367224), 217.93 MiB | 4.57 MiB/s   \r",
      "Receiving objects:  57% (212577/367224), 217.93 MiB | 4.57 MiB/s   \r",
      "Receiving objects:  58% (212990/367224), 217.93 MiB | 4.57 MiB/s   \r",
      "Receiving objects:  59% (216663/367224), 222.83 MiB | 4.60 MiB/s   \r",
      "Receiving objects:  59% (217814/367224), 222.83 MiB | 4.60 MiB/s   \r",
      "Receiving objects:  60% (220335/367224), 224.61 MiB | 4.45 MiB/s   \r",
      "Receiving objects:  61% (224007/367224), 226.57 MiB | 4.32 MiB/s   \r",
      "Receiving objects:  61% (226106/367224), 226.57 MiB | 4.32 MiB/s   \r",
      "Receiving objects:  62% (227679/367224), 228.48 MiB | 4.24 MiB/s   \r",
      "Receiving objects:  63% (231352/367224), 230.54 MiB | 4.26 MiB/s   \r",
      "Receiving objects:  63% (233677/367224), 230.54 MiB | 4.26 MiB/s   \r",
      "Receiving objects:  64% (235024/367224), 232.62 MiB | 4.26 MiB/s   \r",
      "Receiving objects:  65% (238696/367224), 234.68 MiB | 4.22 MiB/s   \r",
      "Receiving objects:  66% (242368/367224), 234.68 MiB | 4.22 MiB/s   \r",
      "Receiving objects:  66% (243705/367224), 234.68 MiB | 4.22 MiB/s   \r",
      "Receiving objects:  67% (246041/367224), 236.83 MiB | 4.18 MiB/s   \r",
      "Receiving objects:  68% (249713/367224), 238.93 MiB | 4.11 MiB/s   \r",
      "Receiving objects:  69% (253385/367224), 238.93 MiB | 4.11 MiB/s   \r",
      "Receiving objects:  69% (255745/367224), 238.93 MiB | 4.11 MiB/s   \r",
      "Receiving objects:  70% (257057/367224), 238.93 MiB | 4.11 MiB/s   \r",
      "Receiving objects:  71% (260730/367224), 241.05 MiB | 4.03 MiB/s   \r",
      "Receiving objects:  72% (264402/367224), 243.23 MiB | 4.12 MiB/s   \r",
      "Receiving objects:  73% (268074/367224), 243.23 MiB | 4.12 MiB/s   \r",
      "Receiving objects:  73% (268224/367224), 243.23 MiB | 4.12 MiB/s   \r",
      "Receiving objects:  74% (271746/367224), 245.31 MiB | 4.14 MiB/s   \r",
      "Receiving objects:  74% (272996/367224), 249.59 MiB | 4.21 MiB/s   \r",
      "Receiving objects:  75% (275418/367224), 251.71 MiB | 4.22 MiB/s   \r",
      "Receiving objects:  75% (275858/367224), 251.71 MiB | 4.22 MiB/s   \r",
      "Receiving objects:  76% (279091/367224), 253.86 MiB | 4.24 MiB/s   \r",
      "Receiving objects:  77% (282763/367224), 253.86 MiB | 4.24 MiB/s   \r",
      "Receiving objects:  78% (286435/367224), 256.05 MiB | 4.25 MiB/s   \r",
      "Receiving objects:  79% (290107/367224), 256.05 MiB | 4.25 MiB/s   \r",
      "Receiving objects:  79% (293052/367224), 256.05 MiB | 4.25 MiB/s   \r",
      "Receiving objects:  80% (293780/367224), 258.26 MiB | 4.26 MiB/s   \r",
      "Receiving objects:  81% (297452/367224), 260.59 MiB | 4.32 MiB/s   \r",
      "Receiving objects:  81% (298215/367224), 260.59 MiB | 4.32 MiB/s   \r",
      "Receiving objects:  82% (301124/367224), 262.83 MiB | 4.33 MiB/s   \r",
      "Receiving objects:  82% (304438/367224), 264.75 MiB | 4.30 MiB/s   \r",
      "Receiving objects:  83% (304796/367224), 264.75 MiB | 4.30 MiB/s   \r",
      "Receiving objects:  84% (308469/367224), 266.61 MiB | 4.23 MiB/s   \r",
      "Receiving objects:  85% (312141/367224), 268.57 MiB | 4.19 MiB/s   \r",
      "Receiving objects:  85% (313970/367224), 268.57 MiB | 4.19 MiB/s   \r",
      "Receiving objects:  86% (315813/367224), 270.64 MiB | 4.18 MiB/s   \r",
      "Receiving objects:  87% (319485/367224), 272.76 MiB | 4.18 MiB/s   \r",
      "Receiving objects:  87% (323014/367224), 272.76 MiB | 4.18 MiB/s   \r",
      "Receiving objects:  88% (323158/367224), 272.76 MiB | 4.18 MiB/s   \r",
      "Receiving objects:  89% (326830/367224), 275.01 MiB | 4.19 MiB/s   \r",
      "Receiving objects:  90% (330502/367224), 275.01 MiB | 4.19 MiB/s   \r",
      "Receiving objects:  91% (334174/367224), 277.22 MiB | 4.20 MiB/s   \r",
      "Receiving objects:  91% (336207/367224), 277.22 MiB | 4.20 MiB/s   \r",
      "Receiving objects:  92% (337847/367224), 279.52 MiB | 4.11 MiB/s   \r",
      "Receiving objects:  93% (341519/367224), 279.52 MiB | 4.11 MiB/s   \r",
      "Receiving objects:  93% (342808/367224), 281.61 MiB | 4.08 MiB/s   \r",
      "Receiving objects:  94% (345191/367224), 281.61 MiB | 4.08 MiB/s   \r",
      "Receiving objects:  95% (348863/367224), 283.45 MiB | 4.06 MiB/s   \r",
      "Receiving objects:  96% (352536/367224), 283.45 MiB | 4.06 MiB/s   \r",
      "Receiving objects:  96% (352986/367224), 285.25 MiB | 4.05 MiB/s   \r",
      "Receiving objects:  96% (355975/367224), 289.16 MiB | 4.02 MiB/s   \r",
      "Receiving objects:  97% (356208/367224), 289.16 MiB | 4.02 MiB/s   \r",
      "Receiving objects:  97% (357309/367224), 292.00 MiB | 3.69 MiB/s   \r",
      "Receiving objects:  97% (357688/367224), 293.00 MiB | 2.95 MiB/s   \r",
      "Receiving objects:  97% (358220/367224), 293.89 MiB | 2.29 MiB/s   \r",
      "Receiving objects:  97% (359039/367224), 294.82 MiB | 1.66 MiB/s   \r",
      "Receiving objects:  97% (359536/367224), 296.25 MiB | 940.00 KiB/s   \r",
      "Receiving objects:  97% (359536/367224), 297.22 MiB | 941.00 KiB/s   \r",
      "Receiving objects:  97% (359536/367224), 298.26 MiB | 972.00 KiB/s   \r",
      "Receiving objects:  97% (359536/367224), 299.46 MiB | 1.01 MiB/s   \r",
      "Receiving objects:  97% (359536/367224), 300.96 MiB | 1.13 MiB/s   \r",
      "Receiving objects:  97% (359536/367224), 302.92 MiB | 1.36 MiB/s   \r",
      "Receiving objects:  97% (359536/367224), 305.50 MiB | 1.71 MiB/s   \r",
      "Receiving objects:  97% (359536/367224), 308.97 MiB | 2.23 MiB/s   \r",
      "Receiving objects:  98% (359880/367224), 308.97 MiB | 2.23 MiB/s   \r",
      "Receiving objects:  98% (360308/367224), 311.14 MiB | 2.57 MiB/s   \r",
      "Receiving objects:  98% (363242/367224), 316.13 MiB | 3.35 MiB/s   \r",
      "Receiving objects:  99% (363552/367224), 316.13 MiB | 3.35 MiB/s   \r",
      "Receiving objects:  99% (364167/367224), 323.02 MiB | 4.17 MiB/s   \r",
      "Receiving objects:  99% (364167/367224), 328.21 MiB | 4.65 MiB/s   \r",
      "Receiving objects:  99% (364167/367224), 333.38 MiB | 4.91 MiB/s   \r",
      "Receiving objects:  99% (365519/367224), 335.37 MiB | 4.82 MiB/s   \r",
      "Receiving objects: 100% (367224/367224), 337.51 MiB | 4.72 MiB/s   \r",
      "Receiving objects: 100% (367224/367224), 337.70 MiB | 4.78 MiB/s, done.\r\n",
      "remote: Total 367224 (delta 0), reused 0 (delta 0), pack-reused 367219\u001b[K\r\n",
      "Resolving deltas:   0% (0/241123)   \r",
      "Resolving deltas:   1% (2426/241123)   \r",
      "Resolving deltas:   2% (4831/241123)   \r",
      "Resolving deltas:   3% (7235/241123)   \r",
      "Resolving deltas:   3% (8740/241123)   \r",
      "Resolving deltas:   4% (9664/241123)   \r",
      "Resolving deltas:   5% (12209/241123)   \r",
      "Resolving deltas:   6% (14489/241123)   \r",
      "Resolving deltas:   7% (16934/241123)   \r",
      "Resolving deltas:   7% (17406/241123)   \r",
      "Resolving deltas:   8% (19295/241123)   \r",
      "Resolving deltas:   9% (21714/241123)   \r",
      "Resolving deltas:   9% (23688/241123)   \r",
      "Resolving deltas:  10% (24125/241123)   \r",
      "Resolving deltas:  11% (26531/241123)   \r",
      "Resolving deltas:  12% (28944/241123)   \r",
      "Resolving deltas:  13% (31353/241123)   \r",
      "Resolving deltas:  14% (33760/241123)   \r",
      "Resolving deltas:  14% (36089/241123)   \r",
      "Resolving deltas:  15% (36169/241123)   \r",
      "Resolving deltas:  16% (38581/241123)   \r",
      "Resolving deltas:  16% (40655/241123)   \r",
      "Resolving deltas:  17% (40997/241123)   \r",
      "Resolving deltas:  18% (43406/241123)   \r",
      "Resolving deltas:  19% (45874/241123)   \r",
      "Resolving deltas:  20% (48230/241123)   \r",
      "Resolving deltas:  21% (50827/241123)   \r",
      "Resolving deltas:  21% (52423/241123)   \r",
      "Resolving deltas:  22% (53103/241123)   \r",
      "Resolving deltas:  23% (55482/241123)   \r",
      "Resolving deltas:  24% (58110/241123)   \r",
      "Resolving deltas:  25% (60424/241123)   \r",
      "Resolving deltas:  26% (62811/241123)   \r",
      "Resolving deltas:  27% (65129/241123)   \r",
      "Resolving deltas:  28% (67519/241123)   \r",
      "Resolving deltas:  29% (69941/241123)   \r",
      "Resolving deltas:  30% (72430/241123)   \r",
      "Resolving deltas:  30% (72872/241123)   \r",
      "Resolving deltas:  31% (74752/241123)   \r",
      "Resolving deltas:  32% (77169/241123)   \r",
      "Resolving deltas:  33% (79576/241123)   \r",
      "Resolving deltas:  33% (79843/241123)   \r",
      "Resolving deltas:  34% (82002/241123)   \r",
      "Resolving deltas:  35% (84570/241123)   \r",
      "Resolving deltas:  36% (86811/241123)   \r",
      "Resolving deltas:  37% (89287/241123)   \r",
      "Resolving deltas:  37% (91218/241123)   \r",
      "Resolving deltas:  38% (91648/241123)   \r",
      "Resolving deltas:  39% (94061/241123)   \r",
      "Resolving deltas:  40% (96451/241123)   \r",
      "Resolving deltas:  41% (98864/241123)   \r",
      "Resolving deltas:  42% (101273/241123)   \r",
      "Resolving deltas:  43% (104184/241123)   \r",
      "Resolving deltas:  43% (105283/241123)   \r",
      "Resolving deltas:  44% (106121/241123)   \r",
      "Resolving deltas:  45% (108513/241123)   \r",
      "Resolving deltas:  46% (110917/241123)   \r",
      "Resolving deltas:  47% (113372/241123)   \r",
      "Resolving deltas:  48% (115827/241123)   \r",
      "Resolving deltas:  49% (118155/241123)   \r",
      "Resolving deltas:  50% (120562/241123)   \r",
      "Resolving deltas:  51% (122976/241123)   \r",
      "Resolving deltas:  51% (124457/241123)   \r",
      "Resolving deltas:  52% (125386/241123)   \r",
      "Resolving deltas:  53% (127798/241123)   \r",
      "Resolving deltas:  54% (130211/241123)   \r",
      "Resolving deltas:  55% (132633/241123)   \r",
      "Resolving deltas:  56% (135034/241123)   \r",
      "Resolving deltas:  57% (137522/241123)   \r",
      "Resolving deltas:  58% (140056/241123)   \r",
      "Resolving deltas:  59% (142287/241123)   \r",
      "Resolving deltas:  59% (144172/241123)   \r",
      "Resolving deltas:  60% (145386/241123)   \r",
      "Resolving deltas:  61% (147092/241123)   \r",
      "Resolving deltas:  62% (149508/241123)   \r",
      "Resolving deltas:  63% (152048/241123)   \r",
      "Resolving deltas:  64% (155262/241123)   \r",
      "Resolving deltas:  65% (156730/241123)   \r",
      "Resolving deltas:  66% (159314/241123)   \r",
      "Resolving deltas:  67% (161566/241123)   \r",
      "Resolving deltas:  68% (163968/241123)   \r",
      "Resolving deltas:  68% (164364/241123)   \r",
      "Resolving deltas:  69% (166557/241123)   \r",
      "Resolving deltas:  70% (168793/241123)   \r",
      "Resolving deltas:  71% (171288/241123)   \r",
      "Resolving deltas:  72% (173942/241123)   \r",
      "Resolving deltas:  73% (176021/241123)   \r",
      "Resolving deltas:  74% (178476/241123)   \r",
      "Resolving deltas:  75% (181935/241123)   \r",
      "Resolving deltas:  76% (183829/241123)   \r",
      "Resolving deltas:  77% (185665/241123)   \r",
      "Resolving deltas:  78% (188080/241123)   \r",
      "Resolving deltas:  79% (190506/241123)   \r",
      "Resolving deltas:  80% (192908/241123)   \r",
      "Resolving deltas:  81% (195396/241123)   \r",
      "Resolving deltas:  82% (197745/241123)   \r",
      "Resolving deltas:  83% (200396/241123)   \r",
      "Resolving deltas:  84% (202593/241123)   \r",
      "Resolving deltas:  85% (205196/241123)   \r",
      "Resolving deltas:  86% (207401/241123)   \r",
      "Resolving deltas:  87% (209922/241123)   \r",
      "Resolving deltas:  87% (209927/241123)   \r",
      "Resolving deltas:  88% (212193/241123)   \r",
      "Resolving deltas:  89% (214629/241123)   \r",
      "Resolving deltas:  90% (217266/241123)   \r",
      "Resolving deltas:  91% (219422/241123)   \r",
      "Resolving deltas:  92% (221865/241123)   \r",
      "Resolving deltas:  93% (224275/241123)   \r",
      "Resolving deltas:  94% (226667/241123)   \r",
      "Resolving deltas:  95% (229139/241123)   \r",
      "Resolving deltas:  96% (231479/241123)   \r",
      "Resolving deltas:  97% (233893/241123)   \r",
      "Resolving deltas:  98% (236302/241123)   \r",
      "Resolving deltas:  99% (238750/241123)   \r",
      "Resolving deltas: 100% (241123/241123)   \r",
      "Resolving deltas: 100% (241123/241123), done.\r\n",
      "Connection to 127.0.0.1 closed.\r",
      "\r\n"
     ]
    }
   ],
   "source": [
    "vagrant ssh node1 -c \"git clone https://github.com/GoogleCloudPlatform/kubernetes.git\"\""
   ]
  },
  {
   "cell_type": "markdown",
   "metadata": {},
   "source": [
    "## Check the Kubernetes cluster status\n",
    "\n",
    "By running the *kubectl cluster-info* command we should obtain output similar to below"
   ]
  },
  {
   "cell_type": "code",
   "execution_count": 12,
   "metadata": {
    "collapsed": false
   },
   "outputs": [
    {
     "name": "stdout",
     "output_type": "stream",
     "text": [
      "\u001b[0;32mKubernetes master\u001b[0m is running at \u001b[0;33mhttp://localhost:8080\u001b[0m\r\n",
      "Connection to 127.0.0.1 closed.\r",
      "\r\n"
     ]
    }
   ],
   "source": [
    "vagrant ssh node1 -c \"kubectl cluster-info\""
   ]
  },
  {
   "cell_type": "markdown",
   "metadata": {},
   "source": [
    "### Start the guestbook application - Quick Start\n",
    "\n",
    "Below are the contents of the yaml file we will use to start the guestbook application under Kubernetes:"
   ]
  },
  {
   "cell_type": "code",
   "execution_count": 14,
   "metadata": {
    "collapsed": false
   },
   "outputs": [
    {
     "name": "stdout",
     "output_type": "stream",
     "text": [
      "apiVersion: v1\r\n",
      "kind: Service\r\n",
      "metadata:\r\n",
      "  name: redis-master\r\n",
      "  labels:\r\n",
      "    app: redis\r\n",
      "    tier: backend\r\n",
      "    role: master\r\n",
      "spec:\r\n",
      "  ports:\r\n",
      "    # the port that this service should serve on\r\n",
      "  - port: 6379\r\n",
      "    targetPort: 6379\r\n",
      "  selector:\r\n",
      "    app: redis\r\n",
      "    tier: backend\r\n",
      "    role: master\r\n",
      "---\r\n",
      "apiVersion: extensions/v1beta1\r\n",
      "kind: Deployment\r\n",
      "metadata:\r\n",
      "  name: redis-master\r\n",
      "  # these labels can be applied automatically\r\n",
      "  # from the labels in the pod template if not set\r\n",
      "  # labels:\r\n",
      "  #   app: redis\r\n",
      "  #   role: master\r\n",
      "  #   tier: backend\r\n",
      "spec:\r\n",
      "  # this replicas value is default\r\n",
      "  # modify it according to your case\r\n",
      "  replicas: 1\r\n",
      "  # selector can be applied automatically\r\n",
      "  # from the labels in the pod template if not set\r\n",
      "  # selector:\r\n",
      "  #   matchLabels:\r\n",
      "  #     app: guestbook\r\n",
      "  #     role: master\r\n",
      "  #     tier: backend\r\n",
      "  template:\r\n",
      "    metadata:\r\n",
      "      labels:\r\n",
      "        app: redis\r\n",
      "        role: master\r\n",
      "        tier: backend\r\n",
      "    spec:\r\n",
      "      containers:\r\n",
      "      - name: master\r\n",
      "        image: gcr.io/google_containers/redis:e2e  # or just image: redis\r\n",
      "        resources:\r\n",
      "          requests:\r\n",
      "            cpu: 100m\r\n",
      "            memory: 100Mi\r\n",
      "        ports:\r\n",
      "        - containerPort: 6379\r\n",
      "---\r\n",
      "apiVersion: v1\r\n",
      "kind: Service\r\n",
      "metadata:\r\n",
      "  name: redis-slave\r\n",
      "  labels:\r\n",
      "    app: redis\r\n",
      "    tier: backend\r\n",
      "    role: slave\r\n",
      "spec:\r\n",
      "  ports:\r\n",
      "    # the port that this service should serve on\r\n",
      "  - port: 6379\r\n",
      "  selector:\r\n",
      "    app: redis\r\n",
      "    tier: backend\r\n",
      "    role: slave\r\n",
      "---\r\n",
      "apiVersion: extensions/v1beta1\r\n",
      "kind: Deployment\r\n",
      "metadata:\r\n",
      "  name: redis-slave\r\n",
      "  # these labels can be applied automatically\r\n",
      "  # from the labels in the pod template if not set\r\n",
      "  # labels:\r\n",
      "  #   app: redis\r\n",
      "  #   role: slave\r\n",
      "  #   tier: backend\r\n",
      "spec:\r\n",
      "  # this replicas value is default\r\n",
      "  # modify it according to your case\r\n",
      "  replicas: 2\r\n",
      "  # selector can be applied automatically\r\n",
      "  # from the labels in the pod template if not set\r\n",
      "  # selector:\r\n",
      "  #   matchLabels:\r\n",
      "  #     app: guestbook\r\n",
      "  #     role: slave\r\n",
      "  #     tier: backend\r\n",
      "  template:\r\n",
      "    metadata:\r\n",
      "      labels:\r\n",
      "        app: redis\r\n",
      "        role: slave\r\n",
      "        tier: backend\r\n",
      "    spec:\r\n",
      "      containers:\r\n",
      "      - name: slave\r\n",
      "        image: gcr.io/google_samples/gb-redisslave:v1\r\n",
      "        resources:\r\n",
      "          requests:\r\n",
      "            cpu: 100m\r\n",
      "            memory: 100Mi\r\n",
      "        env:\r\n",
      "        - name: GET_HOSTS_FROM\r\n",
      "          value: dns\r\n",
      "          # If your cluster config does not include a dns service, then to\r\n",
      "          # instead access an environment variable to find the master\r\n",
      "          # service's host, comment out the 'value: dns' line above, and\r\n",
      "          # uncomment the line below.\r\n",
      "          # value: env\r\n",
      "        ports:\r\n",
      "        - containerPort: 6379\r\n",
      "---\r\n",
      "apiVersion: v1\r\n",
      "kind: Service\r\n",
      "metadata:\r\n",
      "  name: frontend\r\n",
      "  labels:\r\n",
      "    app: guestbook\r\n",
      "    tier: frontend\r\n",
      "spec:\r\n",
      "  # if your cluster supports it, uncomment the following to automatically create\r\n",
      "  # an external load-balanced IP for the frontend service.\r\n",
      "  # type: LoadBalancer\r\n",
      "  ports:\r\n",
      "    # the port that this service should serve on\r\n",
      "  - port: 80\r\n",
      "  selector:\r\n",
      "    app: guestbook\r\n",
      "    tier: frontend\r\n",
      "---\r\n",
      "apiVersion: extensions/v1beta1\r\n",
      "kind: Deployment\r\n",
      "metadata:\r\n",
      "  name: frontend\r\n",
      "  # these labels can be applied automatically\r\n",
      "  # from the labels in the pod template if not set\r\n",
      "  # labels:\r\n",
      "  #   app: guestbook\r\n",
      "  #   tier: frontend\r\n",
      "spec:\r\n",
      "  # this replicas value is default\r\n",
      "  # modify it according to your case\r\n",
      "  replicas: 3\r\n",
      "  # selector can be applied automatically\r\n",
      "  # from the labels in the pod template if not set\r\n",
      "  # selector:\r\n",
      "  #   matchLabels:\r\n",
      "  #     app: guestbook\r\n",
      "  #     tier: frontend\r\n",
      "  template:\r\n",
      "    metadata:\r\n",
      "      labels:\r\n",
      "        app: guestbook\r\n",
      "        tier: frontend\r\n",
      "    spec:\r\n",
      "      containers:\r\n",
      "      - name: php-redis\r\n",
      "        image: gcr.io/google-samples/gb-frontend:v4\r\n",
      "        resources:\r\n",
      "          requests:\r\n",
      "            cpu: 100m\r\n",
      "            memory: 100Mi\r\n",
      "        env:\r\n",
      "        - name: GET_HOSTS_FROM\r\n",
      "          value: dns\r\n",
      "          # If your cluster config does not include a dns service, then to\r\n",
      "          # instead access environment variables to find service host\r\n",
      "          # info, comment out the 'value: dns' line above, and uncomment the\r\n",
      "          # line below.\r\n",
      "          # value: env\r\n",
      "        ports:\r\n",
      "        - containerPort: 80\r\n",
      "Connection to 127.0.0.1 closed.\r",
      "\r\n"
     ]
    }
   ],
   "source": [
    "vagrant ssh node1 -c \"cat kubernetes/examples/guestbook/all-in-one/guestbook-all-in-one.yaml\""
   ]
  },
  {
   "cell_type": "code",
   "execution_count": 13,
   "metadata": {
    "collapsed": false
   },
   "outputs": [
    {
     "name": "stdout",
     "output_type": "stream",
     "text": [
      "service \"redis-master\" created\r\n",
      "deployment \"redis-master\" created\r\n",
      "service \"redis-slave\" created\r\n",
      "deployment \"redis-slave\" created\r\n",
      "service \"frontend\" created\r\n",
      "deployment \"frontend\" created\r\n",
      "Connection to 127.0.0.1 closed.\r",
      "\r\n"
     ]
    }
   ],
   "source": [
    "vagrant ssh node1 -c \"cd kubernetes; kubectl create -f examples/guestbook/all-in-one/guestbook-all-in-one.yaml\""
   ]
  },
  {
   "cell_type": "markdown",
   "metadata": {},
   "source": [
    "vagrant ssh node1 -c \"kubectl get services\""
   ]
  },
  {
   "cell_type": "code",
   "execution_count": 15,
   "metadata": {
    "collapsed": false
   },
   "outputs": [
    {
     "name": "stdout",
     "output_type": "stream",
     "text": [
      "NAME           CLUSTER-IP       EXTERNAL-IP   PORT(S)    AGE\r\n",
      "frontend       10.254.225.118   <none>        80/TCP     8m\r\n",
      "kubernetes     10.254.0.1       <none>        443/TCP    25m\r\n",
      "redis-master   10.254.116.79    <none>        6379/TCP   8m\r\n",
      "redis-slave    10.254.139.216   <none>        6379/TCP   8m\r\n",
      "Connection to 127.0.0.1 closed.\r",
      "\r\n"
     ]
    }
   ],
   "source": [
    "vagrant ssh node1 -c \"kubectl get services\""
   ]
  },
  {
   "cell_type": "code",
   "execution_count": 23,
   "metadata": {
    "collapsed": false
   },
   "outputs": [
    {
     "name": "stdout",
     "output_type": "stream",
     "text": [
      "<html ng-app=\"redis\">\r\n",
      "  <head>\r\n",
      "    <title>Guestbook</title>\r\n",
      "    <link rel=\"stylesheet\" href=\"//netdna.bootstrapcdn.com/bootstrap/3.1.1/css/bootstrap.min.css\">\r\n",
      "    <script src=\"https://ajax.googleapis.com/ajax/libs/angularjs/1.2.12/angular.min.js\"></script>\r\n",
      "    <script src=\"controllers.js\"></script>\r\n",
      "    <script src=\"https://cdnjs.cloudflare.com/ajax/libs/angular-ui-bootstrap/0.13.0/ui-bootstrap-tpls.js\"></script>\r\n",
      "  </head>\r\n",
      "  <body ng-controller=\"RedisCtrl\">\r\n",
      "    <div style=\"width: 50%; margin-left: 20px\">\r\n",
      "      <h2>Guestbook</h2>\r\n",
      "    <form>\r\n",
      "    <fieldset>\r\n",
      "    <input ng-model=\"msg\" placeholder=\"Messages\" class=\"form-control\" type=\"text\" name=\"input\"><br>\r\n",
      "    <button type=\"button\" class=\"btn btn-primary\" ng-click=\"controller.onRedis()\">Submit</button>\r\n",
      "    </fieldset>\r\n",
      "    </form>\r\n",
      "    <div>\r\n",
      "      <div ng-repeat=\"msg in messages track by $index\">\r\n",
      "        {{msg}}\r\n",
      "      </div>\r\n",
      "    </div>\r\n",
      "    </div>\r\n",
      "  </body>\r\n",
      "</html>\r\n",
      "Connection to 127.0.0.1 closed.\r",
      "\r\n"
     ]
    }
   ],
   "source": [
    "vagrant ssh node1 -c \"curl http://10.254.225.118:80\""
   ]
  },
  {
   "cell_type": "markdown",
   "metadata": {},
   "source": []
  },
  {
   "cell_type": "code",
   "execution_count": 25,
   "metadata": {
    "collapsed": false
   },
   "outputs": [
    {
     "name": "stdout",
     "output_type": "stream",
     "text": [
      "service \"redis-master\" deleted\r\n",
      "deployment \"redis-master\" deleted\r\n",
      "service \"redis-slave\" deleted\r\n",
      "deployment \"redis-slave\" deleted\r\n",
      "service \"frontend\" deleted\r\n",
      "deployment \"frontend\" deleted\r\n",
      "Connection to 127.0.0.1 closed.\r",
      "\r\n"
     ]
    }
   ],
   "source": [
    "vagrant ssh node1 -c \"cd kubernetes; kubectl delete -f examples/guestbook/all-in-one/guestbook-all-in-one.yaml\""
   ]
  },
  {
   "cell_type": "code",
   "execution_count": 26,
   "metadata": {
    "collapsed": false
   },
   "outputs": [
    {
     "name": "stdout",
     "output_type": "stream",
     "text": [
      "NAME         CLUSTER-IP   EXTERNAL-IP   PORT(S)   AGE\r\n",
      "kubernetes   10.254.0.1   <none>        443/TCP   1h\r\n",
      "Connection to 127.0.0.1 closed.\r",
      "\r\n"
     ]
    }
   ],
   "source": [
    "vagrant ssh node1 -c \"kubectl get services\""
   ]
  },
  {
   "cell_type": "markdown",
   "metadata": {},
   "source": [
    "#### Step1: Start the Redis Master\n",
    "\n",
    "We will start the Redis Master using the deployment file listed below"
   ]
  },
  {
   "cell_type": "code",
   "execution_count": 33,
   "metadata": {
    "collapsed": false
   },
   "outputs": [
    {
     "name": "stdout",
     "output_type": "stream",
     "text": [
      "apiVersion: v1\r\n",
      "kind: Service\r\n",
      "metadata:\r\n",
      "  name: redis-master\r\n",
      "  labels:\r\n",
      "    app: redis\r\n",
      "    role: master\r\n",
      "    tier: backend\r\n",
      "spec:\r\n",
      "  ports:\r\n",
      "    # the port that this service should serve on\r\n",
      "  - port: 6379\r\n",
      "    targetPort: 6379\r\n",
      "  selector:\r\n",
      "    app: redis\r\n",
      "    role: master\r\n",
      "    tier: backend\r\n",
      "Connection to 127.0.0.1 closed.\r",
      "\r\n"
     ]
    }
   ],
   "source": [
    "vagrant ssh node1 -c \"cat kubernetes/examples/guestbook/redis-master-service.yaml\""
   ]
  },
  {
   "cell_type": "code",
   "execution_count": 35,
   "metadata": {
    "collapsed": false
   },
   "outputs": [
    {
     "name": "stdout",
     "output_type": "stream",
     "text": [
      "service \"redis-master\" created\r\n",
      "Connection to 127.0.0.1 closed.\r",
      "\r\n"
     ]
    }
   ],
   "source": [
    "vagrant ssh node1 -c \"kubectl create -f kubernetes/examples/guestbook/redis-master-service.yaml\""
   ]
  },
  {
   "cell_type": "markdown",
   "metadata": {},
   "source": [
    "We can now see below that the *'redis-master'* service has been created:"
   ]
  },
  {
   "cell_type": "code",
   "execution_count": 36,
   "metadata": {
    "collapsed": false
   },
   "outputs": [
    {
     "name": "stdout",
     "output_type": "stream",
     "text": [
      "NAME           CLUSTER-IP       EXTERNAL-IP   PORT(S)    AGE\r\n",
      "kubernetes     10.254.0.1       <none>        443/TCP    1h\r\n",
      "redis-master   10.254.193.146   <none>        6379/TCP   6s\r\n",
      "Connection to 127.0.0.1 closed.\r",
      "\r\n"
     ]
    }
   ],
   "source": [
    "vagrant ssh node1 -c \"kubectl get services\""
   ]
  },
  {
   "cell_type": "code",
   "execution_count": 38,
   "metadata": {
    "collapsed": false
   },
   "outputs": [
    {
     "name": "stdout",
     "output_type": "stream",
     "text": [
      "deployment \"redis-master\" created\r\n",
      "Connection to 127.0.0.1 closed.\r",
      "\r\n"
     ]
    }
   ],
   "source": [
    "vagrant ssh node1 -c \"kubectl create -f kubernetes/examples/guestbook/redis-master-deployment.yaml\""
   ]
  },
  {
   "cell_type": "code",
   "execution_count": 39,
   "metadata": {
    "collapsed": false
   },
   "outputs": [
    {
     "name": "stdout",
     "output_type": "stream",
     "text": [
      "NAME           DESIRED   CURRENT   UP-TO-DATE   AVAILABLE   AGE\r\n",
      "redis-master   1         1         1            1           7s\r\n",
      "Connection to 127.0.0.1 closed.\r",
      "\r\n"
     ]
    }
   ],
   "source": [
    "vagrant ssh node1 -c \"kubectl get deployments\""
   ]
  },
  {
   "cell_type": "code",
   "execution_count": 40,
   "metadata": {
    "collapsed": false
   },
   "outputs": [
    {
     "name": "stdout",
     "output_type": "stream",
     "text": [
      "NAME                            READY     STATUS    RESTARTS   AGE\r\n",
      "redis-master-2353460263-bd47e   1/1       Running   0          29s\r\n",
      "Connection to 127.0.0.1 closed.\r",
      "\r\n"
     ]
    }
   ],
   "source": [
    "vagrant ssh node1 -c \"kubectl get pods\""
   ]
  },
  {
   "cell_type": "code",
   "execution_count": 41,
   "metadata": {
    "collapsed": false
   },
   "outputs": [
    {
     "name": "stdout",
     "output_type": "stream",
     "text": [
      "NAMESPACE   NAME                            READY     STATUS    RESTARTS   AGE\r\n",
      "default     redis-master-2353460263-bd47e   1/1       Running   0          1m\r\n",
      "Connection to 127.0.0.1 closed.\r",
      "\r\n"
     ]
    }
   ],
   "source": [
    "vagrant ssh node1 -c \"kubectl get pods --all-namespaces\""
   ]
  },
  {
   "cell_type": "code",
   "execution_count": 42,
   "metadata": {
    "collapsed": false
   },
   "outputs": [
    {
     "name": "stdout",
     "output_type": "stream",
     "text": [
      "Name:\t\tredis-master-2353460263-bd47e\r\n",
      "Namespace:\tdefault\r\n",
      "Node:\t\tnode1/10.0.2.15\r\n",
      "Start Time:\tMon, 31 Oct 2016 12:54:49 +0000\r\n",
      "Labels:\t\tapp=redis,pod-template-hash=2353460263,role=master,tier=backend\r\n",
      "Status:\t\tRunning\r\n",
      "IP:\t\t172.17.96.2\r\n",
      "Controllers:\tReplicaSet/redis-master-2353460263\r\n",
      "Containers:\r\n",
      "  master:\r\n",
      "    Container ID:\tdocker://0d00c2bb0b2c572603ac25c3d3e94a746c5fbe8a81007d18f55b1d0af0277c56\r\n",
      "    Image:\t\tgcr.io/google_containers/redis:e2e\r\n",
      "    Image ID:\t\tdocker://sha256:e5e67996c442f903cda78dd983ea6e94bb4e542950fd2eba666b44cbd303df42\r\n",
      "    Port:\t\t6379/TCP\r\n",
      "    QoS Tier:\r\n",
      "      cpu:\tBurstable\r\n",
      "      memory:\tBurstable\r\n",
      "    Requests:\r\n",
      "      cpu:\t\t100m\r\n",
      "      memory:\t\t100Mi\r\n",
      "    State:\t\tRunning\r\n",
      "      Started:\t\tMon, 31 Oct 2016 12:54:50 +0000\r\n",
      "    Ready:\t\tTrue\r\n",
      "    Restart Count:\t0\r\n",
      "    Environment Variables:\r\n",
      "Conditions:\r\n",
      "  Type\t\tStatus\r\n",
      "  Ready \tTrue \r\n",
      "No volumes.\r\n",
      "Events:\r\n",
      "  FirstSeen\tLastSeen\tCount\tFrom\t\t\tSubobjectPath\t\tType\t\tReason\t\t\tMessage\r\n",
      "  ---------\t--------\t-----\t----\t\t\t-------------\t\t--------\t------\t\t\t-------\r\n",
      "  2m\t\t2m\t\t1\t{default-scheduler }\t\t\t\tNormal\t\tScheduled\t\tSuccessfully assigned redis-master-2353460263-bd47e to node1\r\n",
      "  2m\t\t2m\t\t2\t{kubelet node1}\t\t\t\t\tWarning\t\tMissingClusterDNS\tkubelet does not have ClusterDNS IP configured and cannot create Pod using \"ClusterFirst\" policy. Falling back to DNSDefault policy.\r\n",
      "  2m\t\t2m\t\t1\t{kubelet node1}\t\tspec.containers{master}\tNormal\t\tPulled\t\t\tContainer image \"gcr.io/google_containers/redis:e2e\" already present on machine\r\n",
      "  2m\t\t2m\t\t1\t{kubelet node1}\t\tspec.containers{master}\tNormal\t\tCreated\t\t\tCreated container with docker id 0d00c2bb0b2c\r\n",
      "  2m\t\t2m\t\t1\t{kubelet node1}\t\tspec.containers{master}\tNormal\t\tStarted\t\t\tStarted container with docker id 0d00c2bb0b2c\r\n",
      "\r\n",
      "\r\n",
      "Connection to 127.0.0.1 closed.\r",
      "\r\n"
     ]
    }
   ],
   "source": [
    "vagrant ssh node1 -c \"kubectl describe pods redis-master-2353460263-bd47e\""
   ]
  },
  {
   "cell_type": "code",
   "execution_count": 43,
   "metadata": {
    "collapsed": false
   },
   "outputs": [
    {
     "name": "stdout",
     "output_type": "stream",
     "text": [
      "                _._                                                  \r\n",
      "           _.-``__ ''-._                                             \r\n",
      "      _.-``    `.  `_.  ''-._           Redis 2.8.19 (00000000/0) 64 bit\r\n",
      "  .-`` .-```.  ```\\/    _.,_ ''-._                                   \r\n",
      " (    '      ,       .-`  | `,    )     Running in stand alone mode\r\n",
      " |`-._`-...-` __...-.``-._|'` _.-'|     Port: 6379\r\n",
      " |    `-._   `._    /     _.-'    |     PID: 1\r\n",
      "  `-._    `-._  `-./  _.-'    _.-'                                   \r\n",
      " |`-._`-._    `-.__.-'    _.-'_.-'|                                  \r\n",
      " |    `-._`-._        _.-'_.-'    |           http://redis.io        \r\n",
      "  `-._    `-._`-.__.-'_.-'    _.-'                                   \r\n",
      " |`-._`-._    `-.__.-'    _.-'_.-'|                                  \r\n",
      " |    `-._`-._        _.-'_.-'    |                                  \r\n",
      "  `-._    `-._`-.__.-'_.-'    _.-'                                   \r\n",
      "      `-._    `-.__.-'    _.-'                                       \r\n",
      "          `-._        _.-'                                           \r\n",
      "              `-.__.-'                                               \r\n",
      "[1] 31 Oct 12:54:50.121 # Server started, Redis version 2.8.19\r\n",
      "[1] 31 Oct 12:54:50.126 # WARNING: The TCP backlog setting of 511 cannot be enforced because /proc/sys/net/core/somaxconn is set to the lower value of 128.\r\n",
      "[1] 31 Oct 12:54:50.126 * The server is now ready to accept connections on port 6379\r\n",
      "Connection to 127.0.0.1 closed.\r",
      "\r\n"
     ]
    }
   ],
   "source": [
    "vagrant ssh node1 -c \"kubectl logs redis-master-2353460263-bd47e\""
   ]
  },
  {
   "cell_type": "markdown",
   "metadata": {},
   "source": [
    "#### Step2: Start the Redis Slave\n",
    "\n",
    "We will start the Redis Slave using the deployment file listed below"
   ]
  },
  {
   "cell_type": "code",
   "execution_count": 44,
   "metadata": {
    "collapsed": false
   },
   "outputs": [
    {
     "name": "stdout",
     "output_type": "stream",
     "text": [
      "apiVersion: v1\r\n",
      "kind: Service\r\n",
      "metadata:\r\n",
      "  name: redis-slave\r\n",
      "  labels:\r\n",
      "    app: redis\r\n",
      "    role: slave\r\n",
      "    tier: backend\r\n",
      "spec:\r\n",
      "  ports:\r\n",
      "    # the port that this service should serve on\r\n",
      "  - port: 6379\r\n",
      "  selector:\r\n",
      "    app: redis\r\n",
      "    role: slave\r\n",
      "    tier: backend\r\n",
      "Connection to 127.0.0.1 closed.\r",
      "\r\n"
     ]
    }
   ],
   "source": [
    "vagrant ssh node1 -c \"cat kubernetes/examples/guestbook/redis-slave-service.yaml\""
   ]
  },
  {
   "cell_type": "code",
   "execution_count": 45,
   "metadata": {
    "collapsed": false
   },
   "outputs": [
    {
     "name": "stdout",
     "output_type": "stream",
     "text": [
      "service \"redis-slave\" created\r\n",
      "Connection to 127.0.0.1 closed.\r",
      "\r\n"
     ]
    }
   ],
   "source": [
    "vagrant ssh node1 -c \"kubectl create -f kubernetes/examples/guestbook/redis-slave-service.yaml\""
   ]
  },
  {
   "cell_type": "code",
   "execution_count": 46,
   "metadata": {
    "collapsed": false,
    "scrolled": true
   },
   "outputs": [
    {
     "name": "stdout",
     "output_type": "stream",
     "text": [
      "NAME           CLUSTER-IP       EXTERNAL-IP   PORT(S)    AGE\r\n",
      "kubernetes     10.254.0.1       <none>        443/TCP    2h\r\n",
      "redis-master   10.254.193.146   <none>        6379/TCP   17m\r\n",
      "redis-slave    10.254.110.110   <none>        6379/TCP   50s\r\n",
      "Connection to 127.0.0.1 closed.\r",
      "\r\n"
     ]
    }
   ],
   "source": [
    "vagrant ssh node1 -c \"kubectl get services\""
   ]
  },
  {
   "cell_type": "code",
   "execution_count": 48,
   "metadata": {
    "collapsed": false
   },
   "outputs": [
    {
     "name": "stdout",
     "output_type": "stream",
     "text": [
      "deployment \"redis-slave\" created\r\n",
      "Connection to 127.0.0.1 closed.\r",
      "\r\n"
     ]
    }
   ],
   "source": [
    "vagrant ssh node1 -c \"kubectl create -f kubernetes/examples/guestbook/redis-slave-deployment.yaml\""
   ]
  },
  {
   "cell_type": "code",
   "execution_count": 49,
   "metadata": {
    "collapsed": false
   },
   "outputs": [
    {
     "name": "stdout",
     "output_type": "stream",
     "text": [
      "NAME           DESIRED   CURRENT   UP-TO-DATE   AVAILABLE   AGE\r\n",
      "redis-master   1         1         1            1           10m\r\n",
      "redis-slave    2         2         2            2           4s\r\n",
      "Connection to 127.0.0.1 closed.\r",
      "\r\n"
     ]
    }
   ],
   "source": [
    "vagrant ssh node1 -c \"kubectl get deployments\""
   ]
  },
  {
   "cell_type": "code",
   "execution_count": 50,
   "metadata": {
    "collapsed": false
   },
   "outputs": [
    {
     "name": "stdout",
     "output_type": "stream",
     "text": [
      "NAME           CLUSTER-IP       EXTERNAL-IP   PORT(S)    AGE\r\n",
      "kubernetes     10.254.0.1       <none>        443/TCP    2h\r\n",
      "redis-master   10.254.193.146   <none>        6379/TCP   18m\r\n",
      "redis-slave    10.254.110.110   <none>        6379/TCP   2m\r\n",
      "Connection to 127.0.0.1 closed.\r",
      "\r\n"
     ]
    }
   ],
   "source": [
    "vagrant ssh node1 -c \"kubectl get services\""
   ]
  },
  {
   "cell_type": "code",
   "execution_count": 51,
   "metadata": {
    "collapsed": false
   },
   "outputs": [
    {
     "name": "stdout",
     "output_type": "stream",
     "text": [
      "NAME                            READY     STATUS    RESTARTS   AGE\r\n",
      "redis-master-2353460263-bd47e   1/1       Running   0          10m\r\n",
      "redis-slave-1691881626-1okos    1/1       Running   0          28s\r\n",
      "redis-slave-1691881626-1u22e    1/1       Running   0          28s\r\n",
      "Connection to 127.0.0.1 closed.\r",
      "\r\n"
     ]
    }
   ],
   "source": [
    "vagrant ssh node1 -c \"kubectl get pods\""
   ]
  },
  {
   "cell_type": "markdown",
   "metadata": {},
   "source": [
    "#### Start the Guestbook frontend:"
   ]
  },
  {
   "cell_type": "code",
   "execution_count": 52,
   "metadata": {
    "collapsed": false
   },
   "outputs": [
    {
     "name": "stdout",
     "output_type": "stream",
     "text": [
      "apiVersion: v1\r\n",
      "kind: Service\r\n",
      "metadata:\r\n",
      "  name: frontend\r\n",
      "  labels:\r\n",
      "    app: guestbook\r\n",
      "    tier: frontend\r\n",
      "spec:\r\n",
      "  # if your cluster supports it, uncomment the following to automatically create\r\n",
      "  # an external load-balanced IP for the frontend service.\r\n",
      "  # type: LoadBalancer\r\n",
      "  ports:\r\n",
      "    # the port that this service should serve on\r\n",
      "  - port: 80\r\n",
      "  selector:\r\n",
      "    app: guestbook\r\n",
      "    tier: frontend\r\n",
      "---\r\n",
      "apiVersion: extensions/v1beta1\r\n",
      "kind: Deployment\r\n",
      "metadata:\r\n",
      "  name: frontend\r\n",
      "  # these labels can be applied automatically\r\n",
      "  # from the labels in the pod template if not set\r\n",
      "  # labels:\r\n",
      "  #   app: guestbook\r\n",
      "  #   tier: frontend\r\n",
      "spec:\r\n",
      "  # this replicas value is default\r\n",
      "  # modify it according to your case\r\n",
      "  replicas: 3\r\n",
      "  # selector can be applied automatically\r\n",
      "  # from the labels in the pod template if not set\r\n",
      "  # selector:\r\n",
      "  #   matchLabels:\r\n",
      "  #     app: guestbook\r\n",
      "  #     tier: frontend\r\n",
      "  template:\r\n",
      "    metadata:\r\n",
      "      labels:\r\n",
      "        app: guestbook\r\n",
      "        tier: frontend\r\n",
      "    spec:\r\n",
      "      containers:\r\n",
      "      - name: php-redis\r\n",
      "        image: gcr.io/google-samples/gb-frontend:v4\r\n",
      "        resources:\r\n",
      "          requests:\r\n",
      "            cpu: 100m\r\n",
      "            memory: 100Mi\r\n",
      "        env:\r\n",
      "        - name: GET_HOSTS_FROM\r\n",
      "          value: dns\r\n",
      "          # If your cluster config does not include a dns service, then to\r\n",
      "          # instead access environment variables to find service host\r\n",
      "          # info, comment out the 'value: dns' line above, and uncomment the\r\n",
      "          # line below.\r\n",
      "          # value: env\r\n",
      "        ports:\r\n",
      "        - containerPort: 80\r\n",
      "Connection to 127.0.0.1 closed.\r",
      "\r\n"
     ]
    }
   ],
   "source": [
    "vagrant ssh node1 -c \"cat kubernetes/examples/guestbook/all-in-one/frontend.yaml\""
   ]
  },
  {
   "cell_type": "code",
   "execution_count": 53,
   "metadata": {
    "collapsed": false
   },
   "outputs": [
    {
     "name": "stdout",
     "output_type": "stream",
     "text": [
      "service \"frontend\" created\r\n",
      "deployment \"frontend\" created\r\n",
      "Connection to 127.0.0.1 closed.\r",
      "\r\n"
     ]
    }
   ],
   "source": [
    "vagrant ssh node1 -c \"kubectl create -f kubernetes/examples/guestbook/all-in-one/frontend.yaml\""
   ]
  },
  {
   "cell_type": "code",
   "execution_count": 54,
   "metadata": {
    "collapsed": false,
    "scrolled": true
   },
   "outputs": [
    {
     "name": "stdout",
     "output_type": "stream",
     "text": [
      "NAME           CLUSTER-IP       EXTERNAL-IP   PORT(S)    AGE\r\n",
      "frontend       10.254.220.26    <none>        80/TCP     2m\r\n",
      "kubernetes     10.254.0.1       <none>        443/TCP    2h\r\n",
      "redis-master   10.254.193.146   <none>        6379/TCP   23m\r\n",
      "redis-slave    10.254.110.110   <none>        6379/TCP   7m\r\n",
      "Connection to 127.0.0.1 closed.\r",
      "\r\n"
     ]
    }
   ],
   "source": [
    "vagrant ssh node1 -c \"kubectl get services\""
   ]
  },
  {
   "cell_type": "code",
   "execution_count": 55,
   "metadata": {
    "collapsed": false
   },
   "outputs": [
    {
     "name": "stdout",
     "output_type": "stream",
     "text": [
      "NAME           DESIRED   CURRENT   UP-TO-DATE   AVAILABLE   AGE\r\n",
      "frontend       3         3         3            1           3m\r\n",
      "redis-master   1         1         1            1           15m\r\n",
      "redis-slave    2         2         2            2           5m\r\n",
      "Connection to 127.0.0.1 closed.\r",
      "\r\n"
     ]
    }
   ],
   "source": [
    "vagrant ssh node1 -c \"kubectl get deployments\""
   ]
  },
  {
   "cell_type": "code",
   "execution_count": 56,
   "metadata": {
    "collapsed": false
   },
   "outputs": [
    {
     "name": "stdout",
     "output_type": "stream",
     "text": [
      "NAME                            READY     STATUS    RESTARTS   AGE\r\n",
      "frontend-440143558-3xe8u        1/1       Running   0          3m\r\n",
      "frontend-440143558-5e211        0/1       Pending   0          3m\r\n",
      "frontend-440143558-qngwf        0/1       Pending   0          3m\r\n",
      "redis-master-2353460263-bd47e   1/1       Running   0          16m\r\n",
      "redis-slave-1691881626-1okos    1/1       Running   0          5m\r\n",
      "redis-slave-1691881626-1u22e    1/1       Running   0          5m\r\n",
      "Connection to 127.0.0.1 closed.\r",
      "\r\n"
     ]
    }
   ],
   "source": [
    "vagrant ssh node1 -c \"kubectl get pods\""
   ]
  },
  {
   "cell_type": "code",
   "execution_count": 57,
   "metadata": {
    "collapsed": false
   },
   "outputs": [
    {
     "name": "stdout",
     "output_type": "stream",
     "text": [
      "NAME                            READY     STATUS    RESTARTS   AGE       TIER\r\n",
      "frontend-440143558-3xe8u        1/1       Running   0          3m        frontend\r\n",
      "frontend-440143558-5e211        0/1       Pending   0          3m        frontend\r\n",
      "frontend-440143558-qngwf        0/1       Pending   0          3m        frontend\r\n",
      "redis-master-2353460263-bd47e   1/1       Running   0          16m       backend\r\n",
      "redis-slave-1691881626-1okos    1/1       Running   0          6m        backend\r\n",
      "redis-slave-1691881626-1u22e    1/1       Running   0          6m        backend\r\n",
      "Connection to 127.0.0.1 closed.\r",
      "\r\n"
     ]
    }
   ],
   "source": [
    "vagrant ssh node1 -c \"kubectl get pods -L tier\""
   ]
  },
  {
   "cell_type": "markdown",
   "metadata": {},
   "source": [
    "#### Cleanup"
   ]
  },
  {
   "cell_type": "code",
   "execution_count": 60,
   "metadata": {
    "collapsed": false
   },
   "outputs": [
    {
     "name": "stdout",
     "output_type": "stream",
     "text": [
      "deployment \"frontend\" deleted\r\n",
      "deployment \"redis-master\" deleted\r\n",
      "deployment \"redis-slave\" deleted\r\n",
      "service \"frontend\" deleted\r\n",
      "service \"redis-master\" deleted\r\n",
      "service \"redis-slave\" deleted\r\n",
      "Connection to 127.0.0.1 closed.\r",
      "\r\n"
     ]
    }
   ],
   "source": [
    "vagrant ssh node1 -c \"kubectl delete deployments,services -l 'app in (redis, guestbook)'\""
   ]
  },
  {
   "cell_type": "code",
   "execution_count": 61,
   "metadata": {
    "collapsed": false
   },
   "outputs": [
    {
     "name": "stdout",
     "output_type": "stream",
     "text": [
      "NAME         CLUSTER-IP   EXTERNAL-IP   PORT(S)   AGE\r\n",
      "kubernetes   10.254.0.1   <none>        443/TCP   2h\r\n",
      "Connection to 127.0.0.1 closed.\r",
      "\r\n"
     ]
    }
   ],
   "source": [
    "vagrant ssh node1 -c \"kubectl get services\""
   ]
  }
 ],
 "metadata": {
  "anaconda-cloud": {},
  "kernelspec": {
   "display_name": "Bash",
   "language": "bash",
   "name": "bash"
  },
  "language_info": {
   "codemirror_mode": "shell",
   "file_extension": ".sh",
   "mimetype": "text/x-sh",
   "name": "bash"
  }
 },
 "nbformat": 4,
 "nbformat_minor": 1
}
