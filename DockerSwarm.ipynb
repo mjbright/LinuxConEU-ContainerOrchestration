{
 "cells": [
  {
   "cell_type": "markdown",
   "metadata": {},
   "source": [
    "# Docker \"Swarm Mode\" Lab\n",
    "\n",
    "Based on Mario's gist here: https://gist.github.com/l0rd/5186cc80f8f26dc7e9490abca4405830"
   ]
  },
  {
   "cell_type": "markdown",
   "metadata": {},
   "source": [
    "# Requirements\n",
    "- Docker 1.12\n",
    "- Docker machine\n",
    "- Virtualbox\n",
    "\n",
    "# Create 3 nodes for your swarm cluster (one master and 2 slaves)\n",
    "\n",
    "We will create 3 nodes using docker-machine/virtualbox.\n",
    "\n",
    "#### NOTE:\n",
    "You may see errors as below, and an error reported by \"docker-machine ls\", leave some time for the swmaster to settle.\n",
    "\n",
    "In the meantime you can go ahead and create the 2 swnode's below."
   ]
  },
  {
   "cell_type": "code",
   "execution_count": 1,
   "metadata": {
    "collapsed": false
   },
   "outputs": [
    {
     "name": "stdout",
     "output_type": "stream",
     "text": [
      "Running pre-create checks...\r\n",
      "(swmaster) No default Boot2Docker ISO found locally, downloading the latest release...\r\n",
      "(swmaster) Latest release for github.com/boot2docker/boot2docker is v1.12.3\r\n",
      "(swmaster) Downloading /home/group20/.docker/machine/cache/boot2docker.iso from https://github.com/boot2docker/boot2docker/releases/download/v1.12.3/boot2docker.iso...\r\n",
      "(swmaster) 0%....10%....20%....30%....40%....50%....60%....70%....80%....90%....100%\r\n",
      "Creating machine...\r\n",
      "(swmaster) Copying /home/group20/.docker/machine/cache/boot2docker.iso to /home/group20/.docker/machine/machines/swmaster/boot2docker.iso...\r\n",
      "(swmaster) Creating VirtualBox VM...\r\n",
      "(swmaster) Creating SSH key...\r\n",
      "(swmaster) Starting the VM...\r\n",
      "(swmaster) Check network to re-create if needed...\r\n",
      "(swmaster) Waiting for an IP...\r\n",
      "(swmaster) The host-only adapter is corrupted. Let's stop the VM, fix the host-only adapter and restart the VM\r\n",
      "(swmaster) Waiting for an IP...\r\n",
      "Waiting for machine to be running, this may take a few minutes...\r\n",
      "Detecting operating system of created instance...\r\n",
      "Waiting for SSH to be available...\r\n",
      "Detecting the provisioner...\r\n",
      "Provisioning with boot2docker...\r\n",
      "Copying certs to the local machine directory...\r\n",
      "Copying certs to the remote machine...\r\n",
      "Setting Docker configuration on the remote daemon...\r\n",
      "Checking connection to Docker...\r\n",
      "Docker is up and running!\r\n",
      "To see how to connect your Docker Client to the Docker Engine running on this virtual machine, run: docker-machine env swmaster\r\n"
     ]
    }
   ],
   "source": [
    "docker-machine create -d virtualbox swmaster"
   ]
  },
  {
   "cell_type": "code",
   "execution_count": 2,
   "metadata": {
    "collapsed": false
   },
   "outputs": [
    {
     "name": "stdout",
     "output_type": "stream",
     "text": [
      "NAME       ACTIVE   DRIVER       STATE     URL                         SWARM   DOCKER    ERRORS\r\n",
      "swmaster   -        virtualbox   Running   tcp://192.168.99.105:2376           v1.12.3   \r\n"
     ]
    }
   ],
   "source": [
    "docker-machine ls"
   ]
  },
  {
   "cell_type": "code",
   "execution_count": 3,
   "metadata": {
    "collapsed": false
   },
   "outputs": [
    {
     "name": "stdout",
     "output_type": "stream",
     "text": [
      "Running pre-create checks...\r\n",
      "Creating machine...\r\n",
      "(swnode1) Copying /home/group20/.docker/machine/cache/boot2docker.iso to /home/group20/.docker/machine/machines/swnode1/boot2docker.iso...\r\n",
      "(swnode1) Creating VirtualBox VM...\r\n",
      "(swnode1) Creating SSH key...\r\n",
      "(swnode1) Starting the VM...\r\n",
      "(swnode1) Check network to re-create if needed...\r\n",
      "(swnode1) Waiting for an IP...\r\n",
      "Waiting for machine to be running, this may take a few minutes...\r\n",
      "Detecting operating system of created instance...\r\n",
      "Waiting for SSH to be available...\r\n",
      "Detecting the provisioner...\r\n",
      "Provisioning with boot2docker...\r\n",
      "Copying certs to the local machine directory...\r\n",
      "Copying certs to the remote machine...\r\n",
      "Setting Docker configuration on the remote daemon...\r\n",
      "Checking connection to Docker...\r\n",
      "Docker is up and running!\r\n",
      "To see how to connect your Docker Client to the Docker Engine running on this virtual machine, run: docker-machine env swnode1\r\n"
     ]
    }
   ],
   "source": [
    "docker-machine create -d virtualbox swnode1"
   ]
  },
  {
   "cell_type": "code",
   "execution_count": 4,
   "metadata": {
    "collapsed": false
   },
   "outputs": [
    {
     "name": "stdout",
     "output_type": "stream",
     "text": [
      "NAME       ACTIVE   DRIVER       STATE     URL                         SWARM   DOCKER    ERRORS\r\n",
      "swmaster   -        virtualbox   Running   tcp://192.168.99.105:2376           v1.12.3   \r\n",
      "swnode1    -        virtualbox   Running   tcp://192.168.99.106:2376           v1.12.3   \r\n"
     ]
    }
   ],
   "source": [
    "docker-machine ls"
   ]
  },
  {
   "cell_type": "code",
   "execution_count": 5,
   "metadata": {
    "collapsed": false
   },
   "outputs": [
    {
     "name": "stdout",
     "output_type": "stream",
     "text": [
      "Running pre-create checks...\r\n",
      "Creating machine...\r\n",
      "(swnode2) Copying /home/group20/.docker/machine/cache/boot2docker.iso to /home/group20/.docker/machine/machines/swnode2/boot2docker.iso...\r\n",
      "(swnode2) Creating VirtualBox VM...\r\n",
      "(swnode2) Creating SSH key...\r\n",
      "(swnode2) Starting the VM...\r\n",
      "(swnode2) Check network to re-create if needed...\r\n",
      "(swnode2) Waiting for an IP...\r\n",
      "Waiting for machine to be running, this may take a few minutes...\r\n",
      "Detecting operating system of created instance...\r\n",
      "Waiting for SSH to be available...\r\n",
      "Detecting the provisioner...\r\n",
      "Provisioning with boot2docker...\r\n",
      "Copying certs to the local machine directory...\r\n",
      "Copying certs to the remote machine...\r\n",
      "Setting Docker configuration on the remote daemon...\r\n",
      "Checking connection to Docker...\r\n",
      "Docker is up and running!\r\n",
      "To see how to connect your Docker Client to the Docker Engine running on this virtual machine, run: docker-machine env swnode2\r\n",
      "\r\n",
      "real\t1m0.014s\r\n",
      "user\t0m0.492s\r\n",
      "sys\t0m0.076s\r\n"
     ]
    }
   ],
   "source": [
    "time docker-machine create -d virtualbox swnode2"
   ]
  },
  {
   "cell_type": "code",
   "execution_count": 6,
   "metadata": {
    "collapsed": false
   },
   "outputs": [
    {
     "name": "stdout",
     "output_type": "stream",
     "text": [
      "NAME       ACTIVE   DRIVER       STATE     URL                         SWARM   DOCKER    ERRORS\r\n",
      "swmaster   -        virtualbox   Running   tcp://192.168.99.105:2376           v1.12.3   \r\n",
      "swnode1    -        virtualbox   Running   tcp://192.168.99.106:2376           v1.12.3   \r\n",
      "swnode2    -        virtualbox   Running   tcp://192.168.99.107:2376           v1.12.3   \r\n"
     ]
    }
   ],
   "source": [
    "docker-machine ls"
   ]
  },
  {
   "cell_type": "markdown",
   "metadata": {},
   "source": [
    "# swarm init\n",
    "\n",
    "Now that we have 3 nodes available, we will initialize our Swarm Cluster with 1 master node\n",
    "\n",
    "First let's identify the ip address of that node.\n",
    "\n",
    "We can see this through config or ip commands of docker-machine as shown below."
   ]
  },
  {
   "cell_type": "code",
   "execution_count": 7,
   "metadata": {
    "collapsed": false
   },
   "outputs": [
    {
     "name": "stdout",
     "output_type": "stream",
     "text": [
      "--tlsverify\r\n",
      "--tlscacert=\"/home/group20/.docker/machine/certs/ca.pem\"\r\n",
      "--tlscert=\"/home/group20/.docker/machine/certs/cert.pem\"\r\n",
      "--tlskey=\"/home/group20/.docker/machine/certs/key.pem\"\r\n",
      "-H=tcp://192.168.99.105:2376\r\n"
     ]
    }
   ],
   "source": [
    "docker-machine config swmaster"
   ]
  },
  {
   "cell_type": "code",
   "execution_count": 8,
   "metadata": {
    "collapsed": false
   },
   "outputs": [
    {
     "name": "stdout",
     "output_type": "stream",
     "text": [
      "192.168.99.105\r\n"
     ]
    }
   ],
   "source": [
    "docker-machine ip swmaster"
   ]
  },
  {
   "cell_type": "markdown",
   "metadata": {},
   "source": [
    "We could then provide the above ip address as parameter to --advertise-addr when initializing the swarm.\n",
    "\n",
    "However, it is quite convenient to run the above commands embedded, as below, as arguments to the swarm init command.\n",
    "\n",
    "docker-machine config swmaster provides the parameters to use when connecting to the appropriate docker engine for our machine \"swmaster\".\n",
    "\n",
    "The following command will run swarm init to generate the cluster with 'swmaster' as the Master node.\n",
    "You should see output similar to the below:"
   ]
  },
  {
   "cell_type": "code",
   "execution_count": 9,
   "metadata": {
    "collapsed": false
   },
   "outputs": [
    {
     "name": "stdout",
     "output_type": "stream",
     "text": [
      "Swarm initialized: current node (983fp9611vely7wgd593pyup6) is now a manager.\r\n",
      "\r\n",
      "To add a worker to this swarm, run the following command:\r\n",
      "\r\n",
      "    docker swarm join \\\r\n",
      "    --token SWMTKN-1-53u20lpb0qanlwwxb59iwirt6w1qw0qi2t1p7c1gk0p4c44o0m-dsggkdumqs5536he24tn7gave \\\r\n",
      "    192.168.99.105:2377\r\n",
      "\r\n",
      "To add a manager to this swarm, run 'docker swarm join-token manager' and follow the instructions.\r\n",
      "\r\n"
     ]
    }
   ],
   "source": [
    "docker $(docker-machine config swmaster) swarm init --advertise-addr $(docker-machine ip swmaster)"
   ]
  },
  {
   "cell_type": "markdown",
   "metadata": {},
   "source": [
    "A docker info should now show \"Swarm: active\" as below:"
   ]
  },
  {
   "cell_type": "code",
   "execution_count": 10,
   "metadata": {
    "collapsed": false
   },
   "outputs": [
    {
     "name": "stdout",
     "output_type": "stream",
     "text": [
      "Containers: 0\r\n",
      " Running: 0\r\n",
      " Paused: 0\r\n",
      " Stopped: 0\r\n",
      "Images: 0\r\n",
      "Server Version: 1.12.3\r\n",
      "Storage Driver: aufs\r\n",
      " Root Dir: /mnt/sda1/var/lib/docker/aufs\r\n",
      " Backing Filesystem: extfs\r\n",
      " Dirs: 0\r\n",
      " Dirperm1 Supported: true\r\n",
      "Logging Driver: json-file\r\n",
      "Cgroup Driver: cgroupfs\r\n",
      "Plugins:\r\n",
      " Volume: local\r\n",
      " Network: null bridge overlay host\r\n",
      "Swarm: active\r\n",
      " NodeID: 983fp9611vely7wgd593pyup6\r\n",
      " Is Manager: true\r\n",
      " ClusterID: d3navkk4xgotvnxg9to70xb1j\r\n",
      " Managers: 1\r\n",
      " Nodes: 1\r\n",
      " Orchestration:\r\n",
      "  Task History Retention Limit: 5\r\n",
      " Raft:\r\n",
      "  Snapshot Interval: 10000\r\n",
      "  Heartbeat Tick: 1\r\n",
      "  Election Tick: 3\r\n",
      " Dispatcher:\r\n",
      "  Heartbeat Period: 5 seconds\r\n",
      " CA Configuration:\r\n",
      "  Expiry Duration: 3 months\r\n",
      " Node Address: 192.168.99.105\r\n",
      "Runtimes: runc\r\n",
      "Default Runtime: runc\r\n",
      "Security Options: seccomp\r\n",
      "Kernel Version: 4.4.27-boot2docker\r\n",
      "Operating System: Boot2Docker 1.12.3 (TCL 7.2); HEAD : 7fc7575 - Thu Oct 27 17:23:17 UTC 2016\r\n",
      "OSType: linux\r\n",
      "Architecture: x86_64\r\n",
      "CPUs: 1\r\n",
      "Total Memory: 995.8 MiB\r\n",
      "Name: swmaster\r\n",
      "ID: WH2I:PBRM:OD3D:4HTC:Y6O2:V7SL:VIAH:SQEN:A6T3:RN6M:HG3C:XF7R\r\n",
      "Docker Root Dir: /mnt/sda1/var/lib/docker\r\n",
      "Debug Mode (client): false\r\n",
      "Debug Mode (server): true\r\n",
      " File Descriptors: 31\r\n",
      " Goroutines: 117\r\n",
      " System Time: 2016-10-31T10:10:55.659047537Z\r\n",
      " EventsListeners: 0\r\n",
      "Registry: https://index.docker.io/v1/\r\n",
      "Labels:\r\n",
      " provider=virtualbox\r\n",
      "Insecure Registries:\r\n",
      " 127.0.0.0/8\r\n"
     ]
    }
   ],
   "source": [
    "docker $(docker-machine config swmaster) info"
   ]
  },
  {
   "cell_type": "markdown",
   "metadata": {},
   "source": [
    "# swarm join\n",
    "\n",
    "Now we wish to join Master and Worker nodes to our swarm cluster, to do this we need to obtain the token generated during the \"swarm init\".\n",
    "\n",
    "Let's save that token to an environment variable as follows:\n"
   ]
  },
  {
   "cell_type": "code",
   "execution_count": 11,
   "metadata": {
    "collapsed": false
   },
   "outputs": [
    {
     "name": "stdout",
     "output_type": "stream",
     "text": []
    }
   ],
   "source": [
    "token=$(docker $(docker-machine config swmaster) swarm join-token worker -q)"
   ]
  },
  {
   "cell_type": "code",
   "execution_count": 12,
   "metadata": {
    "collapsed": false
   },
   "outputs": [
    {
     "name": "stdout",
     "output_type": "stream",
     "text": [
      "SWMTKN-1-53u20lpb0qanlwwxb59iwirt6w1qw0qi2t1p7c1gk0p4c44o0m-dsggkdumqs5536he24tn7gave\r\n"
     ]
    }
   ],
   "source": [
    "echo $token"
   ]
  },
  {
   "cell_type": "markdown",
   "metadata": {},
   "source": [
    "Now we can use this token to join nodes as a worker to this cluster\n",
    "\n",
    "Note: we could also join nodes as Master, but we have only 3 nodes available.\n",
    "\n",
    "Let's join swnode1 as a worker node"
   ]
  },
  {
   "cell_type": "code",
   "execution_count": 13,
   "metadata": {
    "collapsed": false
   },
   "outputs": [
    {
     "name": "stdout",
     "output_type": "stream",
     "text": [
      "This node joined a swarm as a worker.\r\n"
     ]
    }
   ],
   "source": [
    "docker $(docker-machine config swnode1) swarm join --token $token $(docker-machine ip swmaster):2377"
   ]
  },
  {
   "cell_type": "markdown",
   "metadata": {},
   "source": [
    "Now we can use the same token to join node swnode2 as a worker node\n"
   ]
  },
  {
   "cell_type": "code",
   "execution_count": 15,
   "metadata": {
    "collapsed": false
   },
   "outputs": [
    {
     "name": "stdout",
     "output_type": "stream",
     "text": [
      "This node joined a swarm as a worker.\r\n"
     ]
    }
   ],
   "source": [
    "docker $(docker-machine config swnode2) swarm join --token $token $(docker-machine ip swmaster):2377"
   ]
  },
  {
   "cell_type": "markdown",
   "metadata": {},
   "source": [
    "# start service\n",
    "\n",
    "First we check for any running services - there should be none in our newly initialized cluster:"
   ]
  },
  {
   "cell_type": "code",
   "execution_count": 16,
   "metadata": {
    "collapsed": false
   },
   "outputs": [
    {
     "name": "stdout",
     "output_type": "stream",
     "text": [
      "ID  NAME  REPLICAS  IMAGE  COMMAND\r\n"
     ]
    }
   ],
   "source": [
    "docker $(docker-machine config swmaster) service ls"
   ]
  },
  {
   "cell_type": "markdown",
   "metadata": {},
   "source": [
    "Now we will create a new service based on the docker image mariolet/docker-demo\n",
    "\n",
    "We will expose this service on port 8080\n"
   ]
  },
  {
   "cell_type": "code",
   "execution_count": 17,
   "metadata": {
    "collapsed": false
   },
   "outputs": [
    {
     "name": "stdout",
     "output_type": "stream",
     "text": [
      "0iy9fudrubw5q4987hznce3zu\r\n"
     ]
    }
   ],
   "source": [
    "docker $(docker-machine config swmaster) service create --replicas 1 --name docker-demo -p 8080:8080 mariolet/docker-demo:20"
   ]
  },
  {
   "cell_type": "markdown",
   "metadata": {},
   "source": [
    "Now we list services again and we should see our newly added docker-demo service"
   ]
  },
  {
   "cell_type": "code",
   "execution_count": 18,
   "metadata": {
    "collapsed": false
   },
   "outputs": [
    {
     "name": "stdout",
     "output_type": "stream",
     "text": [
      "ID            NAME         REPLICAS  IMAGE                    COMMAND\r\n",
      "0iy9fudrubw5  docker-demo  0/1       mariolet/docker-demo:20  \r\n"
     ]
    }
   ],
   "source": [
    "docker $(docker-machine config swmaster) service ls"
   ]
  },
  {
   "cell_type": "markdown",
   "metadata": {},
   "source": [
    "... and we can look at the service as seen by the cluster:"
   ]
  },
  {
   "cell_type": "code",
   "execution_count": 19,
   "metadata": {
    "collapsed": false
   },
   "outputs": [
    {
     "name": "stdout",
     "output_type": "stream",
     "text": [
      "ID                         NAME           IMAGE                    NODE      DESIRED STATE  CURRENT STATE          ERROR\r\n",
      "bis9a6yzjtxipx0kkeb4e0b8w  docker-demo.1  mariolet/docker-demo:20  swmaster  Running        Running 5 seconds ago  \r\n"
     ]
    }
   ],
   "source": [
    "docker $(docker-machine config swmaster) service ps docker-demo"
   ]
  },
  {
   "cell_type": "markdown",
   "metadata": {},
   "source": [
    "... and we can look at the service on the individual cluster nodes.\n",
    "\n",
    "Of course as we set replicas to 1 there is only 1 replica of the service for the moment, running on just 1 node of our cluster:"
   ]
  },
  {
   "cell_type": "code",
   "execution_count": 20,
   "metadata": {
    "collapsed": false
   },
   "outputs": [
    {
     "name": "stdout",
     "output_type": "stream",
     "text": [
      "CONTAINER ID        IMAGE                     COMMAND                  CREATED             STATUS              PORTS               NAMES\r\n",
      "337010515c59        mariolet/docker-demo:20   \"/bin/docker-demo -li\"   3 minutes ago       Up 3 minutes        8080/tcp            docker-demo.1.bis9a6yzjtxipx0kkeb4e0b8w\r\n"
     ]
    }
   ],
   "source": [
    "docker $(docker-machine config swmaster) ps"
   ]
  },
  {
   "cell_type": "code",
   "execution_count": 21,
   "metadata": {
    "collapsed": false
   },
   "outputs": [
    {
     "name": "stdout",
     "output_type": "stream",
     "text": [
      "CONTAINER ID        IMAGE               COMMAND             CREATED             STATUS              PORTS               NAMES\r\n"
     ]
    }
   ],
   "source": [
    "docker $(docker-machine config swnode1) ps"
   ]
  },
  {
   "cell_type": "code",
   "execution_count": 22,
   "metadata": {
    "collapsed": false
   },
   "outputs": [
    {
     "name": "stdout",
     "output_type": "stream",
     "text": [
      "CONTAINER ID        IMAGE               COMMAND             CREATED             STATUS              PORTS               NAMES\r\n"
     ]
    }
   ],
   "source": [
    "docker $(docker-machine config swnode2) ps"
   ]
  },
  {
   "cell_type": "markdown",
   "metadata": {},
   "source": [
    "# Accessing the service\n",
    "\n",
    "As we are working remotely we need to create an ssh tunnel through to the swarm cluster to access our service, exposing the port 8080 on your local machine.\n",
    "\n",
    "We can obtain the ip address of the swarm master node as follows."
   ]
  },
  {
   "cell_type": "code",
   "execution_count": 23,
   "metadata": {
    "collapsed": false
   },
   "outputs": [
    {
     "name": "stdout",
     "output_type": "stream",
     "text": [
      "192.168.99.105\r\n"
     ]
    }
   ],
   "source": [
    "docker-machine ip swmaster"
   ]
  },
  {
   "cell_type": "markdown",
   "metadata": {},
   "source": [
    "So from a terminal on your laptop open the ssh tunnel to **YOUR USER@YOUR SERVER**"
   ]
  },
  {
   "cell_type": "markdown",
   "metadata": {},
   "source": [
    "MYSERVER=10.3.222.32\n",
    "MYUSER=group20\n",
    "\n",
    "e.g. ssh group20@10.3.222.32 -L 8080:192.168.99.105:8080 -Nv"
   ]
  },
  {
   "cell_type": "code",
   "execution_count": null,
   "metadata": {
    "collapsed": false
   },
   "outputs": [],
   "source": [
    "MYSERVER=10.3.222.32\n",
    "MYUSER=group20\n",
    "ssh ${MYUSER}@${MYSERVER} -L 8080:$(docker-machine ip swmaster):8080 -Nv"
   ]
  },
  {
   "cell_type": "markdown",
   "metadata": {},
   "source": [
    "Then open your web browser at the page http://localhost:8080 and you should see a lovely blue whale, as below:\n",
    "\n",
    "![](images/docker.png)\n"
   ]
  },
  {
   "cell_type": "markdown",
   "metadata": {},
   "source": [
    "# scale service\n",
    "\n",
    "Now we can scale the service to 3 replicas:"
   ]
  },
  {
   "cell_type": "code",
   "execution_count": 24,
   "metadata": {
    "collapsed": false
   },
   "outputs": [
    {
     "name": "stdout",
     "output_type": "stream",
     "text": [
      "docker-demo scaled to 3\r\n"
     ]
    }
   ],
   "source": [
    "docker $(docker-machine config swmaster) service scale docker-demo=3"
   ]
  },
  {
   "cell_type": "code",
   "execution_count": 25,
   "metadata": {
    "collapsed": false
   },
   "outputs": [
    {
     "name": "stdout",
     "output_type": "stream",
     "text": [
      "ID                         NAME           IMAGE                    NODE      DESIRED STATE  CURRENT STATE          ERROR\r\n",
      "bis9a6yzjtxipx0kkeb4e0b8w  docker-demo.1  mariolet/docker-demo:20  swmaster  Running        Running 6 minutes ago  \r\n",
      "buqwkgkessqp87t1hx4h7xafx  docker-demo.2  mariolet/docker-demo:20  swnode1   Running        Running 1 seconds ago  \r\n",
      "8itya650tbhsax94zbcu8f8x5  docker-demo.3  mariolet/docker-demo:20  swnode2   Running        Running 1 seconds ago  \r\n"
     ]
    }
   ],
   "source": [
    "docker $(docker-machine config swmaster) service ps docker-demo"
   ]
  },
  {
   "cell_type": "markdown",
   "metadata": {},
   "source": [
    "# rolling-update\n",
    "\n",
    "Now we will see how we can perform a rolling update.\n",
    "\n",
    "We initially deployed version 20 of the service, now we will upgrade our whole cluster to version 20 \n"
   ]
  },
  {
   "cell_type": "code",
   "execution_count": 26,
   "metadata": {
    "collapsed": false
   },
   "outputs": [
    {
     "name": "stdout",
     "output_type": "stream",
     "text": [
      "ID                         NAME           IMAGE                    NODE      DESIRED STATE  CURRENT STATE           ERROR\r\n",
      "bis9a6yzjtxipx0kkeb4e0b8w  docker-demo.1  mariolet/docker-demo:20  swmaster  Running        Running 6 minutes ago   \r\n",
      "buqwkgkessqp87t1hx4h7xafx  docker-demo.2  mariolet/docker-demo:20  swnode1   Running        Running 16 seconds ago  \r\n",
      "8itya650tbhsax94zbcu8f8x5  docker-demo.3  mariolet/docker-demo:20  swnode2   Running        Running 16 seconds ago  \r\n"
     ]
    }
   ],
   "source": [
    "docker $(docker-machine config swmaster) service ps docker-demo"
   ]
  },
  {
   "cell_type": "code",
   "execution_count": 27,
   "metadata": {
    "collapsed": false
   },
   "outputs": [
    {
     "name": "stdout",
     "output_type": "stream",
     "text": [
      "docker-demo\r\n"
     ]
    }
   ],
   "source": [
    "docker $(docker-machine config swmaster) service update --image mariolet/docker-demo:21 docker-demo"
   ]
  },
  {
   "cell_type": "code",
   "execution_count": 28,
   "metadata": {
    "collapsed": false
   },
   "outputs": [
    {
     "name": "stdout",
     "output_type": "stream",
     "text": [
      "ID                         NAME               IMAGE                    NODE      DESIRED STATE  CURRENT STATE            ERROR\r\n",
      "5m8jfezy3zvmfu0ym7z64gkcn  docker-demo.1      mariolet/docker-demo:21  swnode2   Ready          Preparing 1 seconds ago  \r\n",
      "bis9a6yzjtxipx0kkeb4e0b8w   \\_ docker-demo.1  mariolet/docker-demo:20  swmaster  Shutdown       Running 7 minutes ago    \r\n",
      "buqwkgkessqp87t1hx4h7xafx  docker-demo.2      mariolet/docker-demo:20  swnode1   Running        Running 30 seconds ago   \r\n",
      "68o013o4n66jeczvf2b009wr4  docker-demo.3      mariolet/docker-demo:21  swnode1   Running        Running 1 seconds ago    \r\n",
      "8itya650tbhsax94zbcu8f8x5   \\_ docker-demo.3  mariolet/docker-demo:20  swnode2   Shutdown       Shutdown 4 seconds ago   \r\n"
     ]
    }
   ],
   "source": [
    "docker $(docker-machine config swmaster) service ps docker-demo"
   ]
  },
  {
   "cell_type": "code",
   "execution_count": 29,
   "metadata": {
    "collapsed": false
   },
   "outputs": [
    {
     "name": "stdout",
     "output_type": "stream",
     "text": [
      "ID                         NAME               IMAGE                    NODE      DESIRED STATE  CURRENT STATE            ERROR\r\n",
      "5m8jfezy3zvmfu0ym7z64gkcn  docker-demo.1      mariolet/docker-demo:21  swnode2   Running        Running 11 seconds ago   \r\n",
      "bis9a6yzjtxipx0kkeb4e0b8w   \\_ docker-demo.1  mariolet/docker-demo:20  swmaster  Shutdown       Shutdown 12 seconds ago  \r\n",
      "2x9tfhlyrr8oox89ii62ohb8w  docker-demo.2      mariolet/docker-demo:21  swmaster  Running        Running 7 seconds ago    \r\n",
      "buqwkgkessqp87t1hx4h7xafx   \\_ docker-demo.2  mariolet/docker-demo:20  swnode1   Shutdown       Shutdown 9 seconds ago   \r\n",
      "68o013o4n66jeczvf2b009wr4  docker-demo.3      mariolet/docker-demo:21  swnode1   Running        Running 13 seconds ago   \r\n",
      "8itya650tbhsax94zbcu8f8x5   \\_ docker-demo.3  mariolet/docker-demo:20  swnode2   Shutdown       Shutdown 16 seconds ago  \r\n"
     ]
    }
   ],
   "source": [
    "docker $(docker-machine config swmaster) service ps docker-demo"
   ]
  },
  {
   "cell_type": "markdown",
   "metadata": {},
   "source": [
    "### Verifying the service has been updated\n",
    "\n",
    "Then open your web browser at the page http://localhost:8080 and you should now see a lovely **red** whale.\n",
    "\n",
    "\n",
    "![](images/docker_red.png)\n",
    "\n"
   ]
  },
  {
   "cell_type": "markdown",
   "metadata": {},
   "source": [
    "# drain a node\n",
    "\n",
    "We can drain a node effectively placing it in 'maintenance mode'.\n",
    "\n",
    "Draining a node means that it no longer has running tasks on it."
   ]
  },
  {
   "cell_type": "code",
   "execution_count": 30,
   "metadata": {
    "collapsed": false
   },
   "outputs": [
    {
     "name": "stdout",
     "output_type": "stream",
     "text": [
      "ID                           HOSTNAME  STATUS  AVAILABILITY  MANAGER STATUS\r\n",
      "5qolyd9sqwby52luxb1x97zv0    swnode1   Ready   Active        \r\n",
      "983fp9611vely7wgd593pyup6 *  swmaster  Ready   Active        Leader\r\n",
      "an3ql7dx7ctif5gxd8rm3gf9h    swnode2   Ready   Active        \r\n"
     ]
    }
   ],
   "source": [
    "docker $(docker-machine config swmaster) node ls"
   ]
  },
  {
   "cell_type": "markdown",
   "metadata": {},
   "source": [
    "Let's drain swnode1"
   ]
  },
  {
   "cell_type": "code",
   "execution_count": 31,
   "metadata": {
    "collapsed": false
   },
   "outputs": [
    {
     "name": "stdout",
     "output_type": "stream",
     "text": [
      "ID                         NAME               IMAGE                    NODE      DESIRED STATE  CURRENT STATE           ERROR\r\n",
      "5m8jfezy3zvmfu0ym7z64gkcn  docker-demo.1      mariolet/docker-demo:21  swnode2   Running        Running 3 minutes ago   \r\n",
      "bis9a6yzjtxipx0kkeb4e0b8w   \\_ docker-demo.1  mariolet/docker-demo:20  swmaster  Shutdown       Shutdown 3 minutes ago  \r\n",
      "2x9tfhlyrr8oox89ii62ohb8w  docker-demo.2      mariolet/docker-demo:21  swmaster  Running        Running 3 minutes ago   \r\n",
      "buqwkgkessqp87t1hx4h7xafx   \\_ docker-demo.2  mariolet/docker-demo:20  swnode1   Shutdown       Shutdown 3 minutes ago  \r\n",
      "68o013o4n66jeczvf2b009wr4  docker-demo.3      mariolet/docker-demo:21  swnode1   Running        Running 3 minutes ago   \r\n",
      "8itya650tbhsax94zbcu8f8x5   \\_ docker-demo.3  mariolet/docker-demo:20  swnode2   Shutdown       Shutdown 3 minutes ago  \r\n"
     ]
    }
   ],
   "source": [
    "docker $(docker-machine config swmaster) service ps docker-demo"
   ]
  },
  {
   "cell_type": "code",
   "execution_count": 32,
   "metadata": {
    "collapsed": false
   },
   "outputs": [
    {
     "name": "stdout",
     "output_type": "stream",
     "text": [
      "swnode1\r\n"
     ]
    }
   ],
   "source": [
    "docker $(docker-machine config swmaster) node update --availability drain swnode1"
   ]
  },
  {
   "cell_type": "markdown",
   "metadata": {},
   "source": [
    "and now we see that all services on swnode1 are shutdown"
   ]
  },
  {
   "cell_type": "code",
   "execution_count": 33,
   "metadata": {
    "collapsed": false
   },
   "outputs": [
    {
     "name": "stdout",
     "output_type": "stream",
     "text": [
      "ID                         NAME               IMAGE                    NODE      DESIRED STATE  CURRENT STATE            ERROR\r\n",
      "5m8jfezy3zvmfu0ym7z64gkcn  docker-demo.1      mariolet/docker-demo:21  swnode2   Running        Running 4 minutes ago    \r\n",
      "bis9a6yzjtxipx0kkeb4e0b8w   \\_ docker-demo.1  mariolet/docker-demo:20  swmaster  Shutdown       Shutdown 4 minutes ago   \r\n",
      "2x9tfhlyrr8oox89ii62ohb8w  docker-demo.2      mariolet/docker-demo:21  swmaster  Running        Running 4 minutes ago    \r\n",
      "buqwkgkessqp87t1hx4h7xafx   \\_ docker-demo.2  mariolet/docker-demo:20  swnode1   Shutdown       Shutdown 4 minutes ago   \r\n",
      "63321zmooc33yq4d6l7jpa1m3  docker-demo.3      mariolet/docker-demo:21  swmaster  Running        Running 11 seconds ago   \r\n",
      "68o013o4n66jeczvf2b009wr4   \\_ docker-demo.3  mariolet/docker-demo:21  swnode1   Shutdown       Shutdown 13 seconds ago  \r\n",
      "8itya650tbhsax94zbcu8f8x5   \\_ docker-demo.3  mariolet/docker-demo:20  swnode2   Shutdown       Shutdown 4 minutes ago   \r\n"
     ]
    }
   ],
   "source": [
    "docker $(docker-machine config swmaster) service ps docker-demo"
   ]
  },
  {
   "cell_type": "code",
   "execution_count": 34,
   "metadata": {
    "collapsed": false
   },
   "outputs": [
    {
     "name": "stdout",
     "output_type": "stream",
     "text": [
      "ID                         NAME               IMAGE                    NODE      DESIRED STATE  CURRENT STATE            ERROR\r\n",
      "5m8jfezy3zvmfu0ym7z64gkcn  docker-demo.1      mariolet/docker-demo:21  swnode2   Running        Running 4 minutes ago    \r\n",
      "bis9a6yzjtxipx0kkeb4e0b8w   \\_ docker-demo.1  mariolet/docker-demo:20  swmaster  Shutdown       Shutdown 4 minutes ago   \r\n",
      "2x9tfhlyrr8oox89ii62ohb8w  docker-demo.2      mariolet/docker-demo:21  swmaster  Running        Running 4 minutes ago    \r\n",
      "buqwkgkessqp87t1hx4h7xafx   \\_ docker-demo.2  mariolet/docker-demo:20  swnode1   Shutdown       Shutdown 4 minutes ago   \r\n",
      "63321zmooc33yq4d6l7jpa1m3  docker-demo.3      mariolet/docker-demo:21  swmaster  Running        Running 28 seconds ago   \r\n",
      "68o013o4n66jeczvf2b009wr4   \\_ docker-demo.3  mariolet/docker-demo:21  swnode1   Shutdown       Shutdown 30 seconds ago  \r\n",
      "8itya650tbhsax94zbcu8f8x5   \\_ docker-demo.3  mariolet/docker-demo:20  swnode2   Shutdown       Shutdown 4 minutes ago   \r\n"
     ]
    }
   ],
   "source": [
    "docker $(docker-machine config swmaster) service ps docker-demo"
   ]
  },
  {
   "cell_type": "markdown",
   "metadata": {},
   "source": [
    "# remove a service\n",
    "\n",
    "Now let's cleanup by removing our service"
   ]
  },
  {
   "cell_type": "code",
   "execution_count": 35,
   "metadata": {
    "collapsed": false
   },
   "outputs": [
    {
     "name": "stdout",
     "output_type": "stream",
     "text": [
      "docker-demo\r\n"
     ]
    }
   ],
   "source": [
    "docker $(docker-machine config swmaster) service rm docker-demo"
   ]
  },
  {
   "cell_type": "markdown",
   "metadata": {},
   "source": [
    "We can check that the service is no longer running:"
   ]
  },
  {
   "cell_type": "code",
   "execution_count": 36,
   "metadata": {
    "collapsed": false
   },
   "outputs": [
    {
     "name": "stdout",
     "output_type": "stream",
     "text": [
      "Error: No such service: docker-demo\r\n"
     ]
    }
   ],
   "source": [
    "docker $(docker-machine config swmaster) service ps docker-demo"
   ]
  },
  {
   "cell_type": "code",
   "execution_count": 37,
   "metadata": {
    "collapsed": false
   },
   "outputs": [
    {
     "name": "stdout",
     "output_type": "stream",
     "text": [
      "CONTAINER ID        IMAGE               COMMAND             CREATED             STATUS              PORTS               NAMES\r\n"
     ]
    }
   ],
   "source": [
    "docker $(docker-machine config swmaster) ps"
   ]
  },
  {
   "cell_type": "code",
   "execution_count": null,
   "metadata": {
    "collapsed": true
   },
   "outputs": [],
   "source": []
  }
 ],
 "metadata": {
  "anaconda-cloud": {},
  "kernelspec": {
   "display_name": "Bash",
   "language": "bash",
   "name": "bash"
  },
  "language_info": {
   "codemirror_mode": "shell",
   "file_extension": ".sh",
   "mimetype": "text/x-sh",
   "name": "bash"
  }
 },
 "nbformat": 4,
 "nbformat_minor": 1
}
